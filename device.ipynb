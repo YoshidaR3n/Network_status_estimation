{
  "nbformat": 4,
  "nbformat_minor": 0,
  "metadata": {
    "colab": {
      "provenance": []
    },
    "kernelspec": {
      "name": "python3",
      "display_name": "Python 3"
    },
    "language_info": {
      "name": "python"
    },
    "accelerator": "GPU",
    "gpuClass": "standard"
  },
  "cells": [
    {
      "cell_type": "code",
      "execution_count": null,
      "metadata": {
        "id": "LLcEY3KOVoSi"
      },
      "outputs": [],
      "source": [
        "#モジュールインポート\n",
        "import torch\n",
        "import torch.nn as nn\n",
        "import torch.nn.functional as F\n",
        "import torch.optim as optim\n",
        "from torchvision import datasets, transforms\n",
        "from torch.utils.data import DataLoader, TensorDataset\n",
        "import seaborn as sns\n",
        "from sklearn.metrics import confusion_matrix\n",
        "from sklearn.metrics import classification_report\n",
        "import random\n",
        "\n",
        "import numpy as np\n",
        "import pandas as pd\n",
        "import matplotlib.pyplot as plt\n",
        "import seaborn as sns\n",
        "from tqdm import tqdm"
      ]
    },
    {
      "cell_type": "code",
      "source": [
        "#使用デバイス判別\n",
        "device = torch.device(\"cuda\" if torch.cuda.is_available() else \"cpu\")\n",
        "print(\"使用デバイス:\", device)"
      ],
      "metadata": {
        "colab": {
          "base_uri": "https://localhost:8080/"
        },
        "id": "Bia56vA1V3me",
        "outputId": "e902c065-75d1-4185-9d65-2f84794f30f4"
      },
      "execution_count": null,
      "outputs": [
        {
          "output_type": "stream",
          "name": "stdout",
          "text": [
            "使用デバイス: cuda\n"
          ]
        }
      ]
    },
    {
      "cell_type": "code",
      "source": [
        "def fix_seed(seed):\n",
        "    # random\n",
        "    random.seed(seed)\n",
        "    # Numpy\n",
        "    np.random.seed(seed)\n",
        "    # Pytorch\n",
        "    torch.manual_seed(seed)\n",
        "    torch.cuda.manual_seed_all(seed)\n",
        "    torch.backends.cudnn.deterministic = True\n",
        "\n",
        "SEED = 42\n",
        "fix_seed(SEED)"
      ],
      "metadata": {
        "id": "Bns-RGfH-KSb"
      },
      "execution_count": null,
      "outputs": []
    },
    {
      "cell_type": "code",
      "source": [
        "#データ読み込み\n",
        "ipad_data = pd.read_csv(\"drive/MyDrive/lab/device_dataset/ipad_T.csv\")\n",
        "iphone_data = pd.read_csv(\"drive/MyDrive/lab/device_dataset/iPhone_T.csv\")\n",
        "kirin_data = pd.read_csv(\"drive/MyDrive/lab/device_dataset/Kirin_T.csv\")\n",
        "rakko_data = pd.read_csv(\"drive/MyDrive/lab/device_dataset/rakko_T.csv\")\n",
        "\n",
        "\n",
        "ipad_data = ipad_data.head(50000)\n",
        "iphone_data = iphone_data.head(50000)\n",
        "kirin_data = kirin_data.head(50000)\n",
        "rakko_data = rakko_data.head(50000)\n",
        "\n",
        "\n",
        "\"\"\"\n",
        "ipad_data[[\"link\"]] = 0\n",
        "iphone_data[[\"link\"]] = 0\n",
        "kirin_data[[\"link\"]] = 0\n",
        "rakko_data[[\"link\"]] = 0\n",
        "\"\"\"\n",
        "\n",
        "datas = {1:ipad_data, 2:iphone_data, 3:kirin_data, 4:rakko_data}\n",
        "ips = [\"192.168.100.8\",\"192.168.100.14\",\"192.168.100.10\",\"192.168.100.12\"]\n",
        "\n",
        "for n,df in datas.items():\n",
        "\n",
        "  for index, data in df.iterrows():\n",
        "    if data[\"Source\"] == ips[n-1]:\n",
        "      df.loc[index, \"link\"] = 0\n",
        "    else:\n",
        "      df.loc[index, \"link\"] = 1\n",
        "\n",
        "  print(index)\n",
        "\n",
        "\n",
        "  df['rate'] = df['Length'] / (df['interval'] + 0.0000000000001)\n",
        "  #df['no_cum'] = df[\"cumbyte\"] / n\n",
        "  #df = df[[\"Length\",\"interval\",\"rate\",\"link\",\"no_cum\"]]\n",
        "\n",
        "  #drop_index = df.index[df[\"Source\"] == ips[n-1]]\n",
        "  #drop_index = df.index[df[\"Destination\"] == ips[n-1]]\n",
        "  #datas[n] = df.drop(drop_index)\n",
        "\n",
        "num_feture=3"
      ],
      "metadata": {
        "id": "cuX1_tKMXpF2",
        "colab": {
          "base_uri": "https://localhost:8080/"
        },
        "outputId": "f43e3d94-b0bd-4b7e-f9d9-5e55405b8ab5"
      },
      "execution_count": null,
      "outputs": [
        {
          "output_type": "stream",
          "name": "stdout",
          "text": [
            "27104\n",
            "25510\n",
            "26159\n",
            "26877\n"
          ]
        }
      ]
    },
    {
      "cell_type": "code",
      "source": [
        "rakko_data.shape"
      ],
      "metadata": {
        "colab": {
          "base_uri": "https://localhost:8080/"
        },
        "id": "i72VcwmT_rd_",
        "outputId": "e90b7445-7f11-457b-df2b-c1bae8b38b16"
      },
      "execution_count": null,
      "outputs": [
        {
          "output_type": "execute_result",
          "data": {
            "text/plain": [
              "(26878, 9)"
            ]
          },
          "metadata": {},
          "execution_count": 26
        }
      ]
    },
    {
      "cell_type": "code",
      "source": [
        "n = 200\n",
        "\n",
        "X1 = datas[1][\"Length\"].sample(n)\n",
        "Y1 = datas[1][\"interval\"].sample(n)\n",
        "\n",
        "X2 = datas[2][\"Length\"].sample(n)\n",
        "Y2 = datas[2][\"interval\"].sample(n)\n",
        "\n",
        "X3 = datas[3][\"Length\"].sample(n)\n",
        "Y3 = datas[3][\"interval\"].sample(n)\n",
        "\n",
        "X4 = datas[4][\"Length\"].sample(n)\n",
        "Y4 = datas[4][\"interval\"].sample(n)\n",
        "\n",
        "\n",
        "ax = plt.gca()\n",
        "\n",
        "plt.scatter(x=X1, y=Y1, c=\"red\",label=\"ipad\")\n",
        "plt.scatter(x=X2, y=Y2, c=\"blue\",label=\"iphone\")\n",
        "plt.scatter(x=X3, y=Y3, c=\"green\",label=\"desktop\")\n",
        "plt.scatter(x=X4, y=Y4, c=\"orange\",label=\"laptop\")\n",
        "\n",
        "plt.xlabel(\"length\")\n",
        "plt.ylabel(\"interval\")\n",
        "plt.title(\"up\")\n",
        "plt.legend()\n",
        "\n",
        "plt.xlim(50,20000)\n",
        "plt.ylim(10**-7,1)\n",
        "\n",
        "ax.set_yscale('log')  # y軸をlogスケールで描く\n",
        "ax.set_xscale('log')  # x軸をlogスケールで描く"
      ],
      "metadata": {
        "colab": {
          "base_uri": "https://localhost:8080/",
          "height": 299
        },
        "id": "Jcil-H2-u2Yn",
        "outputId": "8aacf114-6363-40fc-c738-b114b98e6ce4"
      },
      "execution_count": null,
      "outputs": [
        {
          "output_type": "display_data",
          "data": {
            "text/plain": [
              "<Figure size 432x288 with 1 Axes>"
            ],
            "image/png": "[encoded data removed]"
          },
          "metadata": {
            "needs_background": "light"
          }
        }
      ]
    },
    {
      "cell_type": "code",
      "execution_count": null,
      "metadata": {
        "colab": {
          "base_uri": "https://localhost:8080/"
        },
        "id": "tNc45URUaPVG",
        "outputId": "9d163d5c-e4f6-426e-b620-d139c7a6d0ca"
      },
      "outputs": [
        {
          "output_type": "stream",
          "name": "stdout",
          "text": [
            "データ1の要素数は2710です\n",
            "データ2の要素数は2551です\n",
            "データ3の要素数は2616です\n",
            "データ4の要素数は2687です\n"
          ]
        }
      ],
      "source": [
        "##データ正規化\n",
        "#モジュールインポート\n",
        "from sklearn.preprocessing import MinMaxScaler\n",
        "\n",
        "labels = np.empty(0)\n",
        "trains = np.empty(0)\n",
        "data_num = 0\n",
        "sequence = 10\n",
        "\n",
        "for index in datas:\n",
        "  data = datas[index]\n",
        "  data = data[[\"Length\",\"interval\",\"rate\"]].to_numpy()\n",
        "  #data = data[[\"Length\",\"interval\",\"rate\",\"no_cum\"]].to_numpy()\n",
        "\n",
        "  #データ正規化インスタンス生成\n",
        "  std = MinMaxScaler()\n",
        "  X = data\n",
        "  X = std.fit_transform(X)\n",
        "  data= X\n",
        "\n",
        "  label_index = index\n",
        "  num = len(datas[index])/sequence\n",
        "  num = int(np.floor(num))\n",
        "  data_num += num\n",
        "  print(\"データ{}の要素数は{}です\".format(label_index,num))\n",
        "\n",
        "  label = np.full(num,label_index-1)\n",
        "  labels = np.append(labels, label)\n",
        "  trains = np.append(trains,data)\n",
        "\n",
        "trains = np.resize(trains, (data_num,sequence,num_feture))\n",
        "#trains = np.resize(trains, (data_num,1,sequence,num_feture))#CNNを使う際はこっち\n",
        "target =labels\n",
        "data_ = trains"
      ]
    },
    {
      "cell_type": "code",
      "source": [
        "trains.shape"
      ],
      "metadata": {
        "colab": {
          "base_uri": "https://localhost:8080/"
        },
        "id": "H-r7dANlOZd3",
        "outputId": "7c781d5f-8ddb-4959-82c4-468106350d0a"
      },
      "execution_count": null,
      "outputs": [
        {
          "output_type": "execute_result",
          "data": {
            "text/plain": [
              "(2496, 1, 10, 3)"
            ]
          },
          "metadata": {},
          "execution_count": 32
        }
      ]
    },
    {
      "cell_type": "code",
      "execution_count": null,
      "metadata": {
        "id": "Ih3AX_aOuyU-"
      },
      "outputs": [],
      "source": [
        "from sklearn.model_selection import train_test_split\n",
        "#データセットをトレーニングデータと検証データとテストデータに分割\n",
        "X_train, X_test, y_train, y_test = train_test_split(data_, target, test_size = 0.2)\n",
        "X_train, X_valid, y_train, y_valid = train_test_split(X_train, y_train, test_size = 0.2)\n",
        "\n",
        "# Tensor型に変換\n",
        "# 学習に入れるときはfloat型になっている必要があるのここで変換してしまう\n",
        "X_train = torch.from_numpy(X_train).float()\n",
        "y_train = torch.from_numpy(y_train).long()\n",
        "X_valid = torch.from_numpy(X_valid).float()\n",
        "y_valid = torch.from_numpy(y_valid).long()\n",
        "X_test = torch.from_numpy(X_test).float()\n",
        "y_test = torch.from_numpy(y_test).long()\n",
        "\n",
        "# 2. Datasetの作成\n",
        "train_dataset = TensorDataset(X_train, y_train)\n",
        "valid_dataset = TensorDataset(X_valid, y_valid)\n",
        "test_dataset = TensorDataset(X_test, y_test)\n",
        "\n",
        "# 3. DataLoaderの作成\n",
        "batch_size = 64\n",
        "train_dataloader = DataLoader(train_dataset, batch_size=batch_size, shuffle=True)\n",
        "valid_dataloader = DataLoader(valid_dataset, batch_size=batch_size, shuffle=False)\n",
        "test_dataloader = DataLoader(test_dataset, batch_size=batch_size, shuffle=False)\n",
        "\n",
        "# 辞書型変数にまとめる\n",
        "dataloaders_dict = {\"train\": train_dataloader, \"val\": valid_dataloader, \"test\": test_dataloader}"
      ]
    },
    {
      "cell_type": "code",
      "execution_count": null,
      "metadata": {
        "colab": {
          "base_uri": "https://localhost:8080/"
        },
        "id": "xuBN1XPbWz1u",
        "outputId": "2506320f-0d0c-4a6a-b1da-9594e2db4067"
      },
      "outputs": [
        {
          "output_type": "stream",
          "name": "stdout",
          "text": [
            "(5146, 1, 10, 3)\n"
          ]
        }
      ],
      "source": [
        "print(data_.shape)"
      ]
    },
    {
      "cell_type": "code",
      "source": [
        "batch_iterator = iter(dataloaders_dict[\"train\"])  # イテレータに変換\n",
        "imges, labels = next(batch_iterator)  # 1番目の要素を取り出す\n",
        "print(\"imges size = \", imges.size())\n",
        "print(\"labels size = \", labels.size())"
      ],
      "metadata": {
        "colab": {
          "base_uri": "https://localhost:8080/"
        },
        "id": "eVUUSb5AUHL1",
        "outputId": "c26e0a48-99bf-4d4c-bc9d-ac083f0d7267"
      },
      "execution_count": null,
      "outputs": [
        {
          "output_type": "stream",
          "name": "stdout",
          "text": [
            "imges size =  torch.Size([64, 10, 3])\n",
            "labels size =  torch.Size([64])\n"
          ]
        }
      ]
    },
    {
      "cell_type": "code",
      "source": [
        "class CNN(nn.Module):\n",
        "    def __init__(self):\n",
        "        super(CNN, self).__init__()\n",
        "        self.relu = nn.ReLU()\n",
        "        self.pool = nn.MaxPool2d(2, stride=2)\n",
        "        #conv2d(input_cunnel,output_cunnel,karnel,padding)\n",
        "        self.conv1 = nn.Conv2d(1,16,2,padding=1)\n",
        "        self.conv2 = nn.Conv2d(16,32,2,padding=1)\n",
        "\n",
        "        self.fc1 = nn.Linear(384, 120)\n",
        "        self.fc2 = nn.Linear(120, 4)\n",
        "\n",
        "    def forward(self, x):\n",
        "        x = self.conv1(x)\n",
        "        x = self.relu(x)\n",
        "        #x = self.pool(x)\n",
        "        x = self.conv2(x)\n",
        "        x = self.relu(x)\n",
        "        x = self.pool(x)\n",
        "        x = torch.flatten(x, 1)\n",
        "        x = self.fc1(x)\n",
        "        x = self.relu(x)\n",
        "        x = self.fc2(x)\n",
        "        return x"
      ],
      "metadata": {
        "id": "7BYlNmDND60Z"
      },
      "execution_count": null,
      "outputs": []
    },
    {
      "cell_type": "code",
      "execution_count": null,
      "metadata": {
        "id": "_U3MV_hIKTe3"
      },
      "outputs": [],
      "source": [
        "class RNN(nn.Module):\n",
        "\n",
        "    def __init__(self):\n",
        "        super(RNN, self).__init__()\n",
        "        self.seq_len = sequence            # 時系列のSequenceとしてLSTMに入力する\n",
        "        self.feature_size = num_feture         # 特徴量の次元としてLSTMに入力する\n",
        "        self.hidden_layer_size = 3   # 隠れ層のサイズ\n",
        "        self.layers = 2          # LSTMのレイヤー数(LSTMを何層重ねるか)\n",
        "        self.rnn = nn.RNN(self.feature_size,\n",
        "                            self.hidden_layer_size,\n",
        "                            num_layers = self.layers)\n",
        "\n",
        "        self.fc = nn.Linear(self.hidden_layer_size, 4)\n",
        "\n",
        "    def init_hidden(self, batch_size): # LSTMの隠れ層 hidden を初期化\n",
        "        hedden = torch.zeros(self.layers, batch_size, self.hidden_layer_size)\n",
        "        return hedden\n",
        "\n",
        "    def forward(self, x):\n",
        "        batch_size = x.shape[0]\n",
        "        self.hidden = self.init_hidden(batch_size)\n",
        "\n",
        "        x = x.view(batch_size, self.seq_len, self.feature_size)  # (Batch, Cannel, Height, Width) -> (Batch, Height, Width) = (Batch, Seqence, Feature)\n",
        "                                                                 # 画像の Height を時系列のSequenceに、Width を特徴量の次元としてLSTMに入力する\n",
        "        x = x.permute(1, 0, 2)                                   # (Batch, Seqence, Feature) -> (Seqence , Batch, Feature)\n",
        "\n",
        "        rnn_out, h_n = self.rnn(x, self.hidden)    # LSTMの入力データのShapeは(Seqence, Batch, Feature)\n",
        "                                                                 # (h_n) のShapeは (num_layers, batch, hidden_size)\n",
        "        x = h_n[-1,:,:]                                          # lstm_layersの最後のレイヤーを取り出す  (B, h)\n",
        "        x = self.fc(x)\n",
        "\n",
        "        return x"
      ]
    },
    {
      "cell_type": "code",
      "execution_count": null,
      "metadata": {
        "id": "Fuj-ibhVUao8"
      },
      "outputs": [],
      "source": [
        "class LSTM(nn.Module):\n",
        "\n",
        "    def __init__(self):\n",
        "        super(LSTM, self).__init__()\n",
        "        self.seq_len = sequence            # 画像の Height を時系列のSequenceとしてLSTMに入力する\n",
        "        self.feature_size = num_feture         # 画像の Width を特徴量の次元としてLSTMに入力する\n",
        "        self.hidden_layer_size = 32   # 隠れ層のサイズ\n",
        "        self.lstm_layers = 2          # LSTMのレイヤー数(LSTMを何層重ねるか)\n",
        "        self.lstm = nn.LSTM(self.feature_size,\n",
        "                            self.hidden_layer_size,\n",
        "                            num_layers = self.lstm_layers)\n",
        "\n",
        "        self.fc = nn.Linear(self.hidden_layer_size, 4)\n",
        "\n",
        "    def init_hidden_cell(self, batch_size): # LSTMの隠れ層 hidden と記憶セル cell を初期化\n",
        "        hedden = torch.zeros(self.lstm_layers, batch_size, self.hidden_layer_size)\n",
        "        cell = torch.zeros(self.lstm_layers, batch_size, self.hidden_layer_size)\n",
        "        return (hedden, cell)\n",
        "\n",
        "    def forward(self, x):\n",
        "        batch_size = x.shape[0]\n",
        "        self.hidden_cell = self.init_hidden_cell(batch_size)\n",
        "\n",
        "        x = x.view(batch_size, self.seq_len, self.feature_size)  # (Batch, Cannel, Height, Width) -> (Batch, Height, Width) = (Batch, Seqence, Feature)\n",
        "                                                                 # 画像の Height を時系列のSequenceに、Width を特徴量の次元としてLSTMに入力する\n",
        "        x = x.permute(1, 0, 2)                                   # (Batch, Seqence, Feature) -> (Seqence , Batch, Feature)\n",
        "\n",
        "        lstm_out, (h_n, c_n) = self.lstm(x, self.hidden_cell)    # LSTMの入力データのShapeは(Seqence, Batch, Feature)\n",
        "                                                                 # (h_n) のShapeは (num_layers, batch, hidden_size)\n",
        "        x = h_n[-1,:,:]                                          # lstm_layersの最後のレイヤーを取り出す  (B, h)\n",
        "        x = self.fc(x)\n",
        "\n",
        "        return x"
      ]
    },
    {
      "cell_type": "code",
      "execution_count": null,
      "metadata": {
        "id": "2vnmsf025LEY"
      },
      "outputs": [],
      "source": [
        "class GRU(nn.Module):\n",
        "\n",
        "    def __init__(self):\n",
        "        super(GRU, self).__init__()\n",
        "        self.seq_len = sequence            # 時系列のSequenceとしてGRUに入力する\n",
        "        self.feature_size = num_feture         # Width を特徴量の次元としてGRUに入力する\n",
        "        self.hidden_layer_size = 32   # 隠れ層のサイズ\n",
        "        self.gru_layers = 2          # GRUのレイヤー数(GRUを何層重ねるか)\n",
        "        self.gru = nn.GRU(self.feature_size,\n",
        "                            self.hidden_layer_size,\n",
        "                            num_layers = self.gru_layers)\n",
        "\n",
        "        self.fc = nn.Linear(self.hidden_layer_size, 4)\n",
        "\n",
        "    def init_hidden(self, batch_size): # LSTMの隠れ層 hidden と記憶セル cell を初期化\n",
        "        hedden = torch.zeros(self.gru_layers, batch_size, self.hidden_layer_size)\n",
        "        return hedden\n",
        "\n",
        "    def forward(self, x):\n",
        "        batch_size = x.shape[0]\n",
        "        self.hidden = self.init_hidden(batch_size)\n",
        "\n",
        "        x = x.view(batch_size, self.seq_len, self.feature_size)  # (Batch, Cannel, Height, Width) -> (Batch, Height, Width) = (Batch, Seqence, Feature)\n",
        "                                                                 # 画像の Height を時系列のSequenceに、Width を特徴量の次元としてLSTMに入力する\n",
        "        x = x.permute(1, 0, 2)                                   # (Batch, Seqence, Feature) -> (Seqence , Batch, Feature)\n",
        "\n",
        "        gru_out, h_n= self.gru(x, self.hidden)    # LSTMの入力データのShapeは(Seqence, Batch, Feature)\n",
        "                                                                 # (h_n) のShapeは (num_layers, batch, hidden_size)\n",
        "        x = h_n[-1,:,:]                                          # lstm_layersの最後のレイヤーを取り出す  (B, h)\n",
        "        x = self.fc(x)\n",
        "\n",
        "        return x"
      ]
    },
    {
      "cell_type": "code",
      "execution_count": null,
      "metadata": {
        "colab": {
          "base_uri": "https://localhost:8080/"
        },
        "id": "KdLKZhGwH0_X",
        "outputId": "9f4f9b2d-d838-48ae-f32d-aeaa0eae2121"
      },
      "outputs": [
        {
          "output_type": "stream",
          "name": "stdout",
          "text": [
            "LSTM(\n",
            "  (lstm): LSTM(3, 64, num_layers=2)\n",
            "  (fc): Linear(in_features=64, out_features=4, bias=True)\n",
            ")\n"
          ]
        }
      ],
      "source": [
        "net = LSTM()\n",
        "print(net)"
      ]
    },
    {
      "cell_type": "code",
      "execution_count": null,
      "metadata": {
        "id": "RszVQItAH_Dv"
      },
      "outputs": [],
      "source": [
        "#損失関数の定義\n",
        "criterion = nn.CrossEntropyLoss()\n",
        "\n",
        "#最適化手法の定義\n",
        "optimizer = optim.Adam(net.parameters(), lr=0.001)\n",
        "#optimizer = optim.RMSprop(net0.parameters(), lr=0.001)"
      ]
    },
    {
      "cell_type": "code",
      "execution_count": null,
      "metadata": {
        "id": "H3gkF7SPIk1_"
      },
      "outputs": [],
      "source": [
        "def train_model(net, dataloaders_dict, criterion, optimizer, device, num_epochs):\n",
        "\n",
        "  train_loss_history = np.empty(0)\n",
        "  train_acc_history = np.empty(0)\n",
        "  val_loss_history = np.empty(0)\n",
        "  val_acc_history = np.empty(0)\n",
        "  preds_history = np.empty(0)\n",
        "\n",
        "  for epoch in range(num_epochs):\n",
        "      print(\"\\n\")\n",
        "      print('Epoch {}/{}'.format(epoch+1, num_epochs))\n",
        "      print('-------------')\n",
        "\n",
        "  #epochごとの学習と検証のループ\n",
        "      for phase in ['train', 'val']:\n",
        "          if phase == 'train':   # モデルを訓練モードに設定\n",
        "              net.train()\n",
        "          else:                  # モデルを推論モードに設定\n",
        "              net.eval()\n",
        "\n",
        "          epoch_loss = 0.0       # エポックの損失和\n",
        "          epoch_corrects = 0     # エポックの正解数\n",
        "\n",
        "          # DataLoaderからデータをバッチごとに取り出す\n",
        "          for inputs, labels in dataloaders_dict[phase]:\n",
        "\n",
        "              optimizer.zero_grad()  # optimizerの初期化\n",
        "\n",
        "              # 順伝播計算\n",
        "              # 学習時のみ勾配を計算させる設定にする\n",
        "              with torch.set_grad_enabled(phase == 'train'):\n",
        "                  outputs = net(inputs)                 # 順伝播\n",
        "                  loss = criterion(outputs, labels)     # 損失を計算\n",
        "                  _, preds = torch.max(outputs, 1)      # ラベルを予測\n",
        "\n",
        "                  # 訓練時はバックプロパゲーション\n",
        "                  if phase == 'train':\n",
        "                      loss.backward()                   # 逆伝搬の計算\n",
        "                      optimizer.step()                  # パラメータの更新\n",
        "\n",
        "                  # イテレーション結果の計算\n",
        "                  # lossの合計を更新\n",
        "                  epoch_loss += loss.item() * inputs.size(0)\n",
        "                  # 正解数の合計を更新\n",
        "                  epoch_corrects += torch.sum(preds == labels.data)\n",
        "                  preds_history = np.append(preds_history, preds)\n",
        "\n",
        "          # epochごとのlossと正解率を表示\n",
        "          epoch_loss = epoch_loss / len(dataloaders_dict[phase].dataset)\n",
        "          epoch_acc = epoch_corrects.double() / len(dataloaders_dict[phase].dataset)\n",
        "\n",
        "          if phase == 'train':\n",
        "            train_loss_history = np.append(train_loss_history, epoch_loss)\n",
        "            train_acc_history = np.append(train_acc_history, epoch_acc)\n",
        "\n",
        "          if phase == 'val':\n",
        "            val_loss_history = np.append(val_loss_history, epoch_loss)\n",
        "            val_acc_history = np.append(val_acc_history, epoch_acc)\n",
        "\n",
        "\n",
        "          print('{} Loss: {:.4f} Acc: {:.4f}'.format(phase, epoch_loss, epoch_acc))\n",
        "\n",
        "  fig = plt.figure()\n",
        "  axis1 = fig.subplots()\n",
        "  #axis2 = axis1.twinx()\n",
        "  x = np.arange(num_epochs)\n",
        "\n",
        "  line1 = axis1.plot(x, train_acc_history, color='C0',label='train_acc')\n",
        "  line2 = axis1.plot(x, val_acc_history, color='C1', label='val_acc')\n",
        "\n",
        "  h1, l1 = axis1.get_legend_handles_labels()\n",
        "  #h2, l2 = axis2.get_legend_handles_labels()\n",
        "  axis1.legend(h1, l1, loc='lower right')\n",
        "  #axis1.legend(h1+h2, l1+l2, loc='lower right')\n",
        "\n",
        "  axis1.set_xlabel(\"epochs\")\n",
        "  axis1.set_ylabel(\"accuracy\")\n",
        "  axis1.grid(False)\n",
        "  #axis2.set_ylabel(\"accuracy\")\n",
        "  plt.show()\n",
        "  print(train_acc_history)"
      ]
    },
    {
      "cell_type": "code",
      "execution_count": null,
      "metadata": {
        "id": "zliih6xE2Tna"
      },
      "outputs": [],
      "source": [
        "import time\n",
        "\n",
        "# 処理前の時刻\n",
        "t1 = time.time()\n",
        "\n",
        "num_epochs = 100\n",
        "train_model(net, dataloaders_dict, criterion, optimizer, device, num_epochs=num_epochs)\n",
        "\n",
        "# 処理後の時刻\n",
        "t2 = time.time()\n",
        "\n",
        "# 経過時間を表示\n",
        "elapsed_time = t2-t1\n",
        "print(f\"学習時間：{elapsed_time}\")"
      ]
    },
    {
      "cell_type": "code",
      "execution_count": null,
      "metadata": {
        "id": "LxNGO2u3qfgi",
        "colab": {
          "base_uri": "https://localhost:8080/",
          "height": 1000
        },
        "outputId": "2dd41513-c6c6-4284-d456-8fa299793628"
      },
      "outputs": [
        {
          "output_type": "stream",
          "name": "stdout",
          "text": [
            "0.882158069096072\n",
            "推論時間：0.09171366691589355\n",
            "              precision    recall  f1-score   support\n",
            "\n",
            "           0     0.8680    0.8680    0.8680       553\n",
            "           1     0.9229    0.9196    0.9212       547\n",
            "           2     0.9184    0.8858    0.9018       534\n",
            "           3     0.8160    0.8518    0.8335       479\n",
            "\n",
            "    accuracy                         0.8822      2113\n",
            "   macro avg     0.8813    0.8813    0.8811      2113\n",
            "weighted avg     0.8832    0.8822    0.8825      2113\n",
            "\n"
          ]
        },
        {
          "output_type": "display_data",
          "data": {
            "text/plain": [
              "<Figure size 432x288 with 2 Axes>"
            ],
            "image/png": "[encoded data removed]"
          },
          "metadata": {
            "needs_background": "light"
          }
        },
        {
          "output_type": "display_data",
          "data": {
            "text/plain": [
              "<Figure size 720x720 with 2 Axes>"
            ],
            "image/png": "[encoded data removed]"
          },
          "metadata": {
            "needs_background": "light"
          }
        }
      ],
      "source": [
        "from sklearn.metrics import confusion_matrix, ConfusionMatrixDisplay\n",
        "inputs = X_test\n",
        "true = y_test\n",
        "\n",
        "labels = [\"ipad\", \"iphone\", \"laptop\", \"desktop\"]\n",
        "net.eval() #推論モード\n",
        "\n",
        "with torch.set_grad_enabled(False):   # 推論モードでは勾配を算出しない\n",
        "    # 処理前の時刻\n",
        "    t1 = time.time()\n",
        "    # 出力\n",
        "    outputs = net(inputs)     # 順伝播\n",
        "    _, preds = torch.max(outputs, 1)  # ラベルを予測\n",
        "\n",
        "    correct = 0\n",
        "    for i in range(len(preds)):\n",
        "      if preds[i] == true[i]:\n",
        "        correct += 1\n",
        "\n",
        "    print(correct / len(preds))\n",
        "    # 処理後の時刻\n",
        "    t2 = time.time()\n",
        "    # 経過時間を表示\n",
        "    elapsed_time = t2-t1\n",
        "    print(f\"推論時間：{elapsed_time}\")\n",
        "\n",
        "    print(classification_report(preds, true,  digits=4))\n",
        "\n",
        "    disp = ConfusionMatrixDisplay.from_predictions(preds, true, display_labels = labels,include_values = False ,normalize = \"true\", cmap = 'Greens')\n",
        "    fig, ax = plt.subplots(figsize = (10,10))\n",
        "    plt.title('confusion matrix')\n",
        "    disp.plot(ax=ax, cmap=\"Greens\")\n",
        "\n",
        ""
      ]
    },
    {
      "cell_type": "code",
      "source": [
        "#ランダムフォレスト\n",
        "from sklearn.model_selection import cross_validate, StratifiedKFold\n",
        "from sklearn.metrics import confusion_matrix, ConfusionMatrixDisplay, f1_score\n",
        "from mlxtend.plotting import plot_learning_curves\n",
        "import matplotlib.pyplot as plt\n",
        "from mlxtend.preprocessing import shuffle_arrays_unison\n",
        "from sklearn.ensemble import RandomForestClassifier\n",
        "import time\n",
        "\n",
        "X_train = X_train.squeeze()\n",
        "X_test = X_test.squeeze()\n",
        "\n",
        "X_train = X_train.reshape(X_train.shape[0], -1)\n",
        "X_test = X_test.reshape(X_test.shape[0], -1)\n",
        "\n",
        "\n",
        "\n",
        "#学習\n",
        "model_rf = RandomForestClassifier()\n",
        "model_rf.fit(X_train, y_train)\n",
        "\n",
        "start = time.time() #開始時間記録\n",
        "score_rf = model_rf.score(X_test, y_test)#結果を推論\n",
        "end = time.time()  #終了時間記録\n",
        "print('精度は', score_rf,'%')\n",
        "print('実行時間は',end-start,'秒')   #処理時間出力\n",
        "\n",
        "#内訳(緑のやつ)\n",
        "y_pred = model_rf.predict(X_test)\n",
        "labels = [\"android\", \"ipad\", \"iphone\", \"laptop\", \"desktop\"]\n",
        "disp = ConfusionMatrixDisplay.from_predictions(y_test,y_pred, display_labels = labels,include_values = False ,normalize = \"true\", cmap = 'Greens')\n",
        "fig, ax = plt.subplots(figsize = (10,10))\n",
        "plt.title('confusion matrix')\n",
        "disp.plot(ax=ax, cmap=\"Greens\")"
      ],
      "metadata": {
        "colab": {
          "base_uri": "https://localhost:8080/",
          "height": 896
        },
        "id": "plWFME6z0yqk",
        "outputId": "9f8601ae-c04c-47f1-e8a8-cf8afe6cdd1f"
      },
      "execution_count": null,
      "outputs": [
        {
          "output_type": "stream",
          "name": "stdout",
          "text": [
            "精度は 0.9912621359223301 %\n",
            "実行時間は 0.020984172821044922 秒\n"
          ]
        },
        {
          "output_type": "execute_result",
          "data": {
            "text/plain": [
              "<sklearn.metrics._plot.confusion_matrix.ConfusionMatrixDisplay at 0x7f7c88b44e20>"
            ]
          },
          "metadata": {},
          "execution_count": 19
        },
        {
          "output_type": "display_data",
          "data": {
            "text/plain": [
              "<Figure size 432x288 with 2 Axes>"
            ],
            "image/png": "[encoded data removed]"
          },
          "metadata": {
            "needs_background": "light"
          }
        },
        {
          "output_type": "display_data",
          "data": {
            "text/plain": [
              "<Figure size 720x720 with 2 Axes>"
            ],
            "image/png": "[encoded data removed]"
          },
          "metadata": {
            "needs_background": "light"
          }
        }
      ]
    }
  ]
}