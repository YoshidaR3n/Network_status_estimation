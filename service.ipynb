{
  "cells": [
    {
      "cell_type": "markdown",
      "metadata": {
        "id": "9rLJyGkTQtK4"
      },
      "source": [
        "##設定類"
      ]
    },
    {
      "cell_type": "code",
      "execution_count": null,
      "metadata": {
        "id": "-a6LZNXnXN2y"
      },
      "outputs": [],
      "source": [
        "#モジュールインポート\n",
        "import torch\n",
        "import torch.nn as nn\n",
        "import torch.nn.functional as F\n",
        "import torch.optim as optim\n",
        "from torchvision import datasets, transforms\n",
        "from torch.utils.data import DataLoader, TensorDataset\n",
        "import seaborn as sns\n",
        "from sklearn.metrics import confusion_matrix\n",
        "from sklearn.metrics import classification_report\n",
        "import random\n",
        "\n",
        "import numpy as np\n",
        "import pandas as pd\n",
        "import matplotlib.pyplot as plt\n",
        "import seaborn as sns\n",
        "from tqdm import tqdm"
      ]
    },
    {
      "cell_type": "code",
      "execution_count": null,
      "metadata": {
        "colab": {
          "base_uri": "https://localhost:8080/"
        },
        "id": "FNteRmDNhzgZ",
        "outputId": "d225abf1-4be4-4b3d-f6ce-5d5c44f20de5"
      },
      "outputs": [
        {
          "output_type": "stream",
          "name": "stdout",
          "text": [
            "使用デバイス: cuda\n"
          ]
        }
      ],
      "source": [
        "#使用デバイス判別\n",
        "device = torch.device(\"cuda\" if torch.cuda.is_available() else \"cpu\")\n",
        "print(\"使用デバイス:\", device)"
      ]
    },
    {
      "cell_type": "code",
      "source": [
        "def fix_seed(seed):\n",
        "    # random\n",
        "    random.seed(seed)\n",
        "    # Numpy\n",
        "    np.random.seed(seed)\n",
        "    # Pytorch\n",
        "    torch.manual_seed(seed)\n",
        "    torch.cuda.manual_seed_all(seed)\n",
        "    torch.backends.cudnn.deterministic = True\n",
        "\n",
        "SEED = 42\n",
        "fix_seed(SEED)"
      ],
      "metadata": {
        "id": "Bns-RGfH-KSb"
      },
      "execution_count": null,
      "outputs": []
    },
    {
      "cell_type": "markdown",
      "metadata": {
        "id": "HjTKe-nwk_Gz"
      },
      "source": [
        "##データ読み込み"
      ]
    },
    {
      "cell_type": "code",
      "execution_count": null,
      "metadata": {
        "id": "ZLChpSqAtJJ-"
      },
      "outputs": [],
      "source": [
        "#研究室データセットの前処理\n",
        "\n",
        "my_ip =  \"192.168.100.7\"\n",
        "#データ読み込み\n",
        "youtube_data = pd.read_csv(\"drive/MyDrive/lab/app_dataset/csv_data/youtube2.csv\")\n",
        "edit_data = pd.read_csv(\"drive/MyDrive/lab/app_dataset/csv_data/edit.csv\")\n",
        "ping_data = pd.read_csv(\"drive/MyDrive/lab/app_dataset/csv_data/ping.csv\")\n",
        "video_data = pd.read_csv(\"drive/MyDrive/lab/app_dataset/csv_data/video1.csv\")\n",
        "mail_data = pd.read_csv(\"drive/MyDrive/lab/app_dataset/csv_data/mail1.csv\")\n",
        "\n",
        "# youtube_data = youtube_data.head(50000)\n",
        "# edit_data = edit_data.head(50000)\n",
        "# ping_data = ping_data.head(50000)\n",
        "# video_data = video_data.head(50000)\n",
        "# mail_data = mail_data.head(50000)\n",
        "\n",
        "youtube_data[[\"link\"]] = 0\n",
        "edit_data[[\"link\"]] = 0\n",
        "ping_data[[\"link\"]] = 0\n",
        "video_data[[\"link\"]] = 0\n",
        "mail_data[[\"link\"]] = 0\n",
        "\n",
        "datas = {1:youtube_data, 2:edit_data, 3:ping_data, 4:video_data, 5:mail_data}\n",
        "ips = [\"192.168.100.8\",\"192.168.100.14\",\"192.168.100.10\",\"192.168.100.12\"]\n",
        "\n",
        "for index, df in datas.items():\n",
        "  for index, data in df.iterrows():\n",
        "    if data[\"Source\"] == my_ip:\n",
        "      df.loc[index, \"link\"] = 0\n",
        "    elif data[\"Destination\"] == my_ip:\n",
        "      df.loc[index, \"link\"] = 1\n",
        "    else: df.loc[index, \"link\"]  = 2\n",
        "\n",
        "  print(index)\n",
        "  df['rate'] = df['Length'] / (df['interval'] + 0.0000000000001)\n",
        "  df = df[[\"Length\",\"interval\",\"rate\",\"link\"]]\n"
      ]
    },
    {
      "cell_type": "code",
      "execution_count": null,
      "metadata": {
        "id": "ovkLi5rrv0p5"
      },
      "outputs": [],
      "source": [
        "#ISCXデータセットの前処理\n",
        "\"\"\"\n",
        "my_ip = \"131.202.240.150\"\n",
        "\n",
        "audio_data = pd.read_csv(\"drive/MyDrive/lab/my_dataset/csvs_large/audio.csv\")\n",
        "file_data = pd.read_csv(\"drive/MyDrive/lab/my_dataset/csvs_large/file.csv\")\n",
        "spotify_data = pd.read_csv(\"drive/MyDrive/lab/my_dataset/csvs_large/spotify.csv\")\n",
        "video_data = pd.read_csv(\"drive/MyDrive/lab/my_dataset/csvs_large/video.csv\")\n",
        "vimeo_data = pd.read_csv(\"drive/MyDrive/lab/my_dataset/csvs_large/vimeo.csv\")\n",
        "voip_data = pd.read_csv(\"drive/MyDrive/lab/my_dataset/csvs_large/voip.csv\")\n",
        "youtube_data = pd.read_csv(\"drive/MyDrive/lab/my_dataset/csvs_large/youtube.csv\")\n",
        "netflix_data = pd.read_csv(\"drive/MyDrive/lab/my_dataset/csvs_large/netflix.csv\")\n",
        "\n",
        "audio_data = audio_data.head(100000)\n",
        "file_data = file_data.head(100000)\n",
        "video_data = video_data.head(100000)\n",
        "voip_data = voip_data.head(100000)\n",
        "streaming_data = youtube_data.head(100000)\n",
        "\n",
        "\n",
        "audio_data[[\"link\"]] = 0\n",
        "file_data[[\"link\"]] = 0\n",
        "spotify_data[[\"link\"]] = 0\n",
        "video_data[[\"link\"]] = 0\n",
        "vimeo_data[[\"link\"]] = 0\n",
        "voip_data[[\"link\"]] = 0\n",
        "youtube_data[[\"link\"]] = 0\n",
        "netflix_data[[\"link\"]] = 0\n",
        "\n",
        "datas = {1:streaming_data, 2:audio_data, 3:voip_data, 4:video_data, 5:file_data}\n",
        "\n",
        "for index, df in datas.items():\n",
        "  for index, data in df.iterrows():\n",
        "    if data[\"Source\"] == my_ip:\n",
        "      df.loc[index, \"link\"] = 0\n",
        "    elif data[\"Destination\"] == my_ip:\n",
        "      df.loc[index, \"link\"] = 2\n",
        "    else: df.loc[index, \"link\"]  = 1\n",
        "\n",
        "  print(index)\n",
        "  df['rate'] = df['Length'] / (df['interval'] + 0.0000000000001)\n",
        "  df = df[[\"Length\",\"interval\",\"rate\",\"link\"]]\n",
        "\"\"\""
      ]
    },
    {
      "cell_type": "code",
      "execution_count": null,
      "metadata": {
        "colab": {
          "base_uri": "https://localhost:8080/"
        },
        "id": "c-pZqar20PTS",
        "outputId": "dd4252ca-9dc0-4a48-e525-1abb5f633221"
      },
      "outputs": [
        {
          "output_type": "stream",
          "name": "stdout",
          "text": [
            "137478\n",
            "47813\n",
            "34814\n",
            "155144\n",
            "27486\n"
          ]
        }
      ],
      "source": [
        "#研究室データセットの前処理\n",
        "my_ip =  \"192.168.100.7\"\n",
        "my_ip2 = \"131.202.240.150\"\n",
        "#データ読み込み\n",
        "youtube_data = pd.read_csv(\"drive/MyDrive/lab/app_dataset/new_data/streaming.csv\")\n",
        "edit_data = pd.read_csv(\"drive/MyDrive/lab/app_dataset/new_data/edit.csv\")\n",
        "ping_data = pd.read_csv(\"drive/MyDrive/lab/app_dataset/new_data/ping.csv\")\n",
        "video_data = pd.read_csv(\"drive/MyDrive/lab/app_dataset/new_data/video.csv\")\n",
        "mail_data = pd.read_csv(\"drive/MyDrive/lab/app_dataset/new_data/mail.csv\")\n",
        "\n",
        "youtube_data[[\"link\"]] = 0\n",
        "edit_data[[\"link\"]] = 0\n",
        "ping_data[[\"link\"]] = 0\n",
        "video_data[[\"link\"]] = 0\n",
        "mail_data[[\"link\"]] = 0\n",
        "\n",
        "datas = {1:youtube_data, 2:edit_data, 3:ping_data, 4:video_data, 5:mail_data}\n",
        "ips = [\"192.168.100.7\",\"192.168.100.7\",\"192.168.100.12\",\"192.168.100.7\",\"192.168.100.7\"]\n",
        "\n",
        "for n, df in datas.items():\n",
        "  for index, data in df.iterrows():\n",
        "    if data[\"Source\"]  == ips[n-1]:\n",
        "      df.loc[index, \"link\"] = 0\n",
        "    elif data[\"Destination\"] == ips[n-1]:\n",
        "      df.loc[index, \"link\"] = 1\n",
        "    else: datas[n].drop(index, inplace=True)\n",
        "\n",
        "  print(index)\n",
        "  df['rate'] = df['Length'] / (df['interval'] + 0.0000000000001)\n",
        "  df = df[[\"Length\",\"interval\",\"rate\",\"link\"]]\n"
      ]
    },
    {
      "cell_type": "code",
      "source": [
        "datas[3]"
      ],
      "metadata": {
        "id": "qHi86ImNpgPF"
      },
      "execution_count": null,
      "outputs": []
    },
    {
      "cell_type": "code",
      "execution_count": null,
      "metadata": {
        "colab": {
          "base_uri": "https://localhost:8080/"
        },
        "id": "tNc45URUaPVG",
        "outputId": "c7597bf4-8d0d-4c42-93ab-0738415b963d"
      },
      "outputs": [
        {
          "output_type": "stream",
          "name": "stdout",
          "text": [
            "データ1の要素数は13255です\n",
            "データ2の要素数は4307です\n",
            "データ3の要素数は3481です\n",
            "データ4の要素数は15269です\n",
            "データ5の要素数は2260です\n"
          ]
        }
      ],
      "source": [
        "##データ正規化\n",
        "#モジュールインポート\n",
        "from sklearn.preprocessing import MinMaxScaler\n",
        "\n",
        "labels = np.empty(0)\n",
        "trains = np.empty(0)\n",
        "data_num = 0\n",
        "s=1\n",
        "sequence = 10*s\n",
        "\n",
        "for index in datas:\n",
        "  data = datas[index]\n",
        "  data = data[[\"Length\",\"interval\",\"rate\",\"link\"]].to_numpy()\n",
        "\n",
        "  #データ正規化インスタンス生成\n",
        "  std = MinMaxScaler()\n",
        "  X = data\n",
        "  X = std.fit_transform(X)\n",
        "  data= X\n",
        "\n",
        "  label_index = index\n",
        "  num = len(datas[index])/sequence\n",
        "  num = int(np.floor(num))\n",
        "  data_num += num\n",
        "  print(\"データ{}の要素数は{}です\".format(label_index,num))\n",
        "\n",
        "  label = np.full(num,label_index-1)\n",
        "  labels = np.append(labels, label)\n",
        "  trains = np.append(trains,data)\n",
        "\n",
        "#trains = np.resize(trains, (data_num,sequence,4))\n",
        "trains = np.resize(trains, (data_num,1,sequence,4))"
      ]
    },
    {
      "cell_type": "code",
      "execution_count": null,
      "metadata": {
        "id": "PFPFrqtPnagK"
      },
      "outputs": [],
      "source": [
        "target =labels"
      ]
    },
    {
      "cell_type": "code",
      "execution_count": null,
      "metadata": {
        "id": "myh3nIkLUXXx"
      },
      "outputs": [],
      "source": [
        "data_ = trains"
      ]
    },
    {
      "cell_type": "code",
      "execution_count": null,
      "metadata": {
        "id": "7QJ9eN3w5Xkc"
      },
      "outputs": [],
      "source": [
        "from sklearn.model_selection import train_test_split\n",
        "#データセットをトレーニングデータと検証データとテストデータに分割\n",
        "X_train, X_test, y_train, y_test = train_test_split(data_, target, test_size = 0.2)\n",
        "X_train, X_valid, y_train, y_valid = train_test_split(X_train, y_train, test_size = 0.2)"
      ]
    },
    {
      "cell_type": "code",
      "execution_count": null,
      "metadata": {
        "id": "AZ6tsAd6tUbD"
      },
      "outputs": [],
      "source": [
        "# Tensor型に変換\n",
        "# 学習に入れるときはfloat型になっている必要があるのここで変換してしまう\n",
        "X_train = torch.from_numpy(X_train).float()\n",
        "y_train = torch.from_numpy(y_train).long()\n",
        "X_valid = torch.from_numpy(X_valid).float()\n",
        "y_valid = torch.from_numpy(y_valid).long()\n",
        "X_test = torch.from_numpy(X_test).float()\n",
        "y_test = torch.from_numpy(y_test).long()"
      ]
    },
    {
      "cell_type": "code",
      "execution_count": null,
      "metadata": {
        "id": "Ih3AX_aOuyU-"
      },
      "outputs": [],
      "source": [
        "# 2. Datasetの作成\n",
        "train_dataset = TensorDataset(X_train, y_train)\n",
        "valid_dataset = TensorDataset(X_valid, y_valid)\n",
        "test_dataset = TensorDataset(X_test, y_test)\n",
        "\n",
        "# 3. DataLoaderの作成\n",
        "batch_size = 32\n",
        "train_dataloader = DataLoader(train_dataset, batch_size=batch_size, shuffle=True)\n",
        "valid_dataloader = DataLoader(valid_dataset, batch_size=batch_size, shuffle=False)\n",
        "test_dataloader = DataLoader(test_dataset, batch_size=batch_size, shuffle=False)\n",
        "\n",
        "# 辞書型変数にまとめる\n",
        "dataloaders_dict = {\"train\": train_dataloader, \"val\": valid_dataloader, \"test\": test_dataloader}"
      ]
    },
    {
      "cell_type": "code",
      "execution_count": null,
      "metadata": {
        "colab": {
          "base_uri": "https://localhost:8080/"
        },
        "id": "xuBN1XPbWz1u",
        "outputId": "549ea236-daf8-4232-d864-7e2d58cae3b0"
      },
      "outputs": [
        {
          "output_type": "stream",
          "name": "stdout",
          "text": [
            "(2044, 1, 90, 4)\n"
          ]
        }
      ],
      "source": [
        "print(data_.shape)"
      ]
    },
    {
      "cell_type": "markdown",
      "metadata": {
        "id": "ZWp02iQmjURq"
      },
      "source": [
        "##モデル定義"
      ]
    },
    {
      "cell_type": "code",
      "source": [
        "class CNN(nn.Module):\n",
        "    def __init__(self):\n",
        "        super(CNN, self).__init__()\n",
        "        self.relu = nn.ReLU()\n",
        "        self.pool = nn.MaxPool2d(2, stride=2)\n",
        "        #conv2d(input_cunnel,output_cunnel,karnel,padding)\n",
        "        self.conv1 = nn.Conv2d(1,16,2,padding= 1)\n",
        "        self.conv2 = nn.Conv2d(16,32,2,padding= 1)\n",
        "\n",
        "        self.fc1 = nn.Linear(576, 120)\n",
        "        self.fc2 = nn.Linear(120, 5)\n",
        "\n",
        "    def forward(self, x):\n",
        "        x = self.conv1(x)\n",
        "        x = self.relu(x)\n",
        "        #x = self.pool(x)\n",
        "        x = self.conv2(x)\n",
        "        x = self.relu(x)\n",
        "        x = self.pool(x)\n",
        "        #x = x.view(x.size()[0], -1)\n",
        "        x = torch.flatten(x, 1)\n",
        "        x = self.fc1(x)\n",
        "        x = self.relu(x)\n",
        "        x = self.fc2(x)\n",
        "        return x"
      ],
      "metadata": {
        "id": "7BYlNmDND60Z"
      },
      "execution_count": null,
      "outputs": []
    },
    {
      "cell_type": "code",
      "execution_count": null,
      "metadata": {
        "id": "_U3MV_hIKTe3"
      },
      "outputs": [],
      "source": [
        "class RNN(nn.Module):\n",
        "\n",
        "    def __init__(self):\n",
        "        super(RNN, self).__init__()\n",
        "        self.seq_len = sequence       # 時系列のSequenceとしてLSTMに入力する\n",
        "        self.feature_size = 4         # 特徴量の次元としてLSTMに入力する\n",
        "        self.hidden_layer_size = 32   # 隠れ層のサイズ\n",
        "        self.layers = 2          # LSTMのレイヤー数(LSTMを何層重ねるか)\n",
        "        self.rnn = nn.RNN(self.feature_size,\n",
        "                            self.hidden_layer_size,\n",
        "                            num_layers = self.layers)\n",
        "\n",
        "        self.fc = nn.Linear(self.hidden_layer_size, 5)\n",
        "\n",
        "    def init_hidden(self, batch_size): # LSTMの隠れ層 hidden を初期化\n",
        "        hedden = torch.zeros(self.layers, batch_size, self.hidden_layer_size)\n",
        "        return hedden\n",
        "\n",
        "    def forward(self, x):\n",
        "        batch_size = x.shape[0]\n",
        "        self.hidden = self.init_hidden(batch_size)\n",
        "\n",
        "        x = x.view(batch_size, self.seq_len, self.feature_size)  # (Batch, Cannel, Height, Width) -> (Batch, Height, Width) = (Batch, Seqence, Feature)\n",
        "                                                                 # 画像の Height を時系列のSequenceに、Width を特徴量の次元としてLSTMに入力する\n",
        "        x = x.permute(1, 0, 2)                                   # (Batch, Seqence, Feature) -> (Seqence , Batch, Feature)\n",
        "\n",
        "        rnn_out, h_n = self.rnn(x, self.hidden)    # LSTMの入力データのShapeは(Seqence, Batch, Feature)\n",
        "                                                                 # (h_n) のShapeは (num_layers, batch, hidden_size)\n",
        "        x = h_n[-1,:,:]                                          # lstm_layersの最後のレイヤーを取り出す  (B, h)\n",
        "        x = self.fc(x)\n",
        "\n",
        "        return x"
      ]
    },
    {
      "cell_type": "code",
      "execution_count": null,
      "metadata": {
        "id": "2vnmsf025LEY"
      },
      "outputs": [],
      "source": [
        "class GRU(nn.Module):\n",
        "\n",
        "    def __init__(self):\n",
        "        super(GRU, self).__init__()\n",
        "        self.seq_len = sequence            # 時系列のSequenceとしてGRUに入力する\n",
        "        self.feature_size = 4         # Width を特徴量の次元としてGRUに入力する\n",
        "        self.hidden_layer_size = 32   # 隠れ層のサイズ\n",
        "        self.gru_layers = 2          # GRUのレイヤー数(GRUを何層重ねるか)\n",
        "        self.gru = nn.GRU(self.feature_size,\n",
        "                            self.hidden_layer_size,\n",
        "                            num_layers = self.gru_layers)\n",
        "\n",
        "        self.fc = nn.Linear(self.hidden_layer_size, 5)\n",
        "\n",
        "    def init_hidden(self, batch_size): # LSTMの隠れ層 hidden と記憶セル cell を初期化\n",
        "        hedden = torch.zeros(self.gru_layers, batch_size, self.hidden_layer_size)\n",
        "        return hedden\n",
        "\n",
        "    def forward(self, x):\n",
        "        batch_size = x.shape[0]\n",
        "        self.hidden = self.init_hidden(batch_size)\n",
        "\n",
        "        x = x.view(batch_size, self.seq_len, self.feature_size)  # (Batch, Cannel, Height, Width) -> (Batch, Height, Width) = (Batch, Seqence, Feature)\n",
        "                                                                 # 画像の Height を時系列のSequenceに、Width を特徴量の次元としてLSTMに入力する\n",
        "        x = x.permute(1, 0, 2)                                   # (Batch, Seqence, Feature) -> (Seqence , Batch, Feature)\n",
        "\n",
        "        gru_out, h_n= self.gru(x, self.hidden)    # LSTMの入力データのShapeは(Seqence, Batch, Feature)\n",
        "                                                                 # (h_n) のShapeは (num_layers, batch, hidden_size)\n",
        "        x = h_n[-1,:,:]                                          # lstm_layersの最後のレイヤーを取り出す  (B, h)\n",
        "        x = self.fc(x)\n",
        "\n",
        "        return x"
      ]
    },
    {
      "cell_type": "code",
      "execution_count": null,
      "metadata": {
        "id": "Fuj-ibhVUao8"
      },
      "outputs": [],
      "source": [
        "class LSTM(nn.Module):\n",
        "\n",
        "    def __init__(self):\n",
        "        super(LSTM, self).__init__()\n",
        "        self.seq_len = sequence            # 画像の Height を時系列のSequenceとしてLSTMに入力する\n",
        "        self.feature_size = 4         # 画像の Width を特徴量の次元としてLSTMに入力する\n",
        "        self.hidden_layer_size = 32   # 隠れ層のサイズ\n",
        "        self.lstm_layers = 2          # LSTMのレイヤー数(LSTMを何層重ねるか)\n",
        "        self.lstm = nn.LSTM(self.feature_size,\n",
        "                            self.hidden_layer_size,\n",
        "                            num_layers = self.lstm_layers)\n",
        "\n",
        "        self.fc = nn.Linear(self.hidden_layer_size, 5)\n",
        "\n",
        "    def init_hidden_cell(self, batch_size): # LSTMの隠れ層 hidden と記憶セル cell を初期化\n",
        "        hedden = torch.zeros(self.lstm_layers, batch_size, self.hidden_layer_size)\n",
        "        cell = torch.zeros(self.lstm_layers, batch_size, self.hidden_layer_size)\n",
        "        return (hedden, cell)\n",
        "\n",
        "    def forward(self, x):\n",
        "        batch_size = x.shape[0]\n",
        "        self.hidden_cell = self.init_hidden_cell(batch_size)\n",
        "\n",
        "        x = x.view(batch_size, self.seq_len, self.feature_size)  # (Batch, Cannel, Height, Width) -> (Batch, Height, Width) = (Batch, Seqence, Feature)\n",
        "                                                                 # 画像の Height を時系列のSequenceに、Width を特徴量の次元としてLSTMに入力する\n",
        "        x = x.permute(1, 0, 2)                                   # (Batch, Seqence, Feature) -> (Seqence , Batch, Feature)\n",
        "\n",
        "        lstm_out, (h_n, c_n) = self.lstm(x, self.hidden_cell)    # LSTMの入力データのShapeは(Seqence, Batch, Feature)\n",
        "                                                                 # (h_n) のShapeは (num_layers, batch, hidden_size)\n",
        "        x = h_n[-1,:,:]                                          # lstm_layersの最後のレイヤーを取り出す  (B, h)\n",
        "        x = self.fc(x)\n",
        "\n",
        "        return x"
      ]
    },
    {
      "cell_type": "code",
      "execution_count": null,
      "metadata": {
        "colab": {
          "base_uri": "https://localhost:8080/"
        },
        "id": "KdLKZhGwH0_X",
        "outputId": "80f41eeb-52e7-4fc2-ba17-330e1e8aa363"
      },
      "outputs": [
        {
          "output_type": "stream",
          "name": "stdout",
          "text": [
            "CNN(\n",
            "  (relu): ReLU()\n",
            "  (pool): MaxPool2d(kernel_size=2, stride=2, padding=0, dilation=1, ceil_mode=False)\n",
            "  (conv1): Conv2d(1, 16, kernel_size=(2, 2), stride=(1, 1), padding=(1, 1))\n",
            "  (conv2): Conv2d(16, 32, kernel_size=(2, 2), stride=(1, 1), padding=(1, 1))\n",
            "  (fc1): Linear(in_features=576, out_features=120, bias=True)\n",
            "  (fc2): Linear(in_features=120, out_features=5, bias=True)\n",
            ")\n"
          ]
        }
      ],
      "source": [
        "net = CNN()\n",
        "print(net)"
      ]
    },
    {
      "cell_type": "code",
      "execution_count": null,
      "metadata": {
        "id": "RszVQItAH_Dv"
      },
      "outputs": [],
      "source": [
        "#損失関数の定義\n",
        "criterion = nn.CrossEntropyLoss()\n",
        "\n",
        "#最適化手法の定義\n",
        "optimizer = optim.Adam(net.parameters(), lr=0.001)\n",
        "#optimizer = optim.RMSprop(net0.parameters(), lr=0.001)"
      ]
    },
    {
      "cell_type": "markdown",
      "metadata": {
        "id": "qw11qjxgIgzQ"
      },
      "source": [
        "##学習"
      ]
    },
    {
      "cell_type": "code",
      "execution_count": null,
      "metadata": {
        "id": "H3gkF7SPIk1_"
      },
      "outputs": [],
      "source": [
        "def train_model(net, dataloaders_dict, criterion, optimizer, device, num_epochs):\n",
        "\n",
        "  train_loss_history = np.empty(0)\n",
        "  train_acc_history = np.empty(0)\n",
        "  val_loss_history = np.empty(0)\n",
        "  val_acc_history = np.empty(0)\n",
        "  preds_history = np.empty(0)\n",
        "\n",
        "  for epoch in range(num_epochs):\n",
        "      print(\"\\n\")\n",
        "      print('Epoch {}/{}'.format(epoch+1, num_epochs))\n",
        "      print('-------------')\n",
        "\n",
        "  #epochごとの学習と検証のループ\n",
        "      for phase in ['train', 'val']:\n",
        "          if phase == 'train':   # モデルを訓練モードに設定\n",
        "              net.train()\n",
        "          else:                  # モデルを推論モードに設定\n",
        "              net.eval()\n",
        "\n",
        "          epoch_loss = 0.0       # エポックの損失和\n",
        "          epoch_corrects = 0     # エポックの正解数\n",
        "\n",
        "          # DataLoaderからデータをバッチごとに取り出す\n",
        "          for inputs, labels in dataloaders_dict[phase]:\n",
        "\n",
        "              optimizer.zero_grad()  # optimizerの初期化\n",
        "\n",
        "              # 順伝播計算\n",
        "              # 学習時のみ勾配を計算させる設定にする\n",
        "              with torch.set_grad_enabled(phase == 'train'):\n",
        "                  outputs = net(inputs)                 # 順伝播\n",
        "                  loss = criterion(outputs, labels)     # 損失を計算\n",
        "                  _, preds = torch.max(outputs, 1)      # ラベルを予測\n",
        "\n",
        "                  # 訓練時はバックプロパゲーション\n",
        "                  if phase == 'train':\n",
        "                      loss.backward()                   # 逆伝搬の計算\n",
        "                      optimizer.step()                  # パラメータの更新\n",
        "\n",
        "                  # イテレーション結果の計算\n",
        "                  # lossの合計を更新\n",
        "                  epoch_loss += loss.item() * inputs.size(0)\n",
        "                  # 正解数の合計を更新\n",
        "                  epoch_corrects += torch.sum(preds == labels.data)\n",
        "                  preds_history = np.append(preds_history, preds)\n",
        "\n",
        "          # epochごとのlossと正解率を表示\n",
        "          epoch_loss = epoch_loss / len(dataloaders_dict[phase].dataset)\n",
        "          epoch_acc = epoch_corrects.double() / len(dataloaders_dict[phase].dataset)\n",
        "\n",
        "          if phase == 'train':\n",
        "            train_loss_history = np.append(train_loss_history, epoch_loss)\n",
        "            train_acc_history = np.append(train_acc_history, epoch_acc)\n",
        "\n",
        "          if phase == 'val':\n",
        "            val_loss_history = np.append(train_loss_history, epoch_loss)\n",
        "            val_acc_history = np.append(val_acc_history, epoch_acc)\n",
        "\n",
        "\n",
        "          print('{} Loss: {:.4f} Acc: {:.4f}'.format(phase, epoch_loss, epoch_acc))\n",
        "\n",
        "  fig = plt.figure()\n",
        "  axis1 = fig.subplots()\n",
        "  #axis2 = axis1.twinx()\n",
        "  x = np.arange(num_epochs)\n",
        "\n",
        "  line1 = axis1.plot(x, train_acc_history, color='C0',label='train_acc')\n",
        "  line2 = axis1.plot(x, val_acc_history, color='C1', label='val_acc')\n",
        "\n",
        "  h1, l1 = axis1.get_legend_handles_labels()\n",
        "  #h2, l2 = axis2.get_legend_handles_labels()\n",
        "  axis1.legend(h1, l1, loc='lower right')\n",
        "  #axis1.legend(h1+h2, l1+l2, loc='lower right')\n",
        "\n",
        "  axis1.set_xlabel(\"epochs\")\n",
        "  axis1.set_ylabel(\"accuracy\")\n",
        "  axis1.grid(False)\n",
        "  #axis2.set_ylabel(\"accuracy\")\n",
        "  plt.show()\n",
        "  print(preds_history)"
      ]
    },
    {
      "cell_type": "code",
      "execution_count": null,
      "metadata": {
        "id": "zliih6xE2Tna",
        "colab": {
          "base_uri": "https://localhost:8080/",
          "height": 1000
        },
        "outputId": "f1f1db00-e9ab-4f1a-c21c-9989d7fde9c5"
      },
      "outputs": [
        {
          "output_type": "stream",
          "name": "stdout",
          "text": [
            "\n",
            "\n",
            "Epoch 1/100\n",
            "-------------\n",
            "train Loss: 0.9747 Acc: 0.6527\n",
            "val Loss: 0.8057 Acc: 0.7179\n",
            "\n",
            "\n",
            "Epoch 2/100\n",
            "-------------\n",
            "train Loss: 0.6236 Acc: 0.7810\n",
            "val Loss: 0.4739 Acc: 0.8349\n",
            "\n",
            "\n",
            "Epoch 3/100\n",
            "-------------\n",
            "train Loss: 0.4346 Acc: 0.8412\n",
            "val Loss: 0.3942 Acc: 0.8539\n",
            "\n",
            "\n",
            "Epoch 4/100\n",
            "-------------\n",
            "train Loss: 0.3747 Acc: 0.8617\n",
            "val Loss: 0.3650 Acc: 0.8647\n",
            "\n",
            "\n",
            "Epoch 5/100\n",
            "-------------\n",
            "train Loss: 0.3419 Acc: 0.8753\n",
            "val Loss: 0.3435 Acc: 0.8762\n",
            "\n",
            "\n",
            "Epoch 6/100\n",
            "-------------\n",
            "train Loss: 0.3216 Acc: 0.8817\n",
            "val Loss: 0.3208 Acc: 0.8811\n",
            "\n",
            "\n",
            "Epoch 7/100\n",
            "-------------\n",
            "train Loss: 0.3039 Acc: 0.8874\n",
            "val Loss: 0.3118 Acc: 0.8853\n",
            "\n",
            "\n",
            "Epoch 8/100\n",
            "-------------\n",
            "train Loss: 0.2897 Acc: 0.8926\n",
            "val Loss: 0.3148 Acc: 0.8820\n",
            "\n",
            "\n",
            "Epoch 9/100\n",
            "-------------\n",
            "train Loss: 0.2790 Acc: 0.8966\n",
            "val Loss: 0.3024 Acc: 0.8897\n",
            "\n",
            "\n",
            "Epoch 10/100\n",
            "-------------\n",
            "train Loss: 0.2699 Acc: 0.8994\n",
            "val Loss: 0.2924 Acc: 0.8919\n",
            "\n",
            "\n",
            "Epoch 11/100\n",
            "-------------\n",
            "train Loss: 0.2601 Acc: 0.9036\n",
            "val Loss: 0.2931 Acc: 0.8937\n",
            "\n",
            "\n",
            "Epoch 12/100\n",
            "-------------\n",
            "train Loss: 0.2503 Acc: 0.9056\n",
            "val Loss: 0.2843 Acc: 0.8948\n",
            "\n",
            "\n",
            "Epoch 13/100\n",
            "-------------\n",
            "train Loss: 0.2422 Acc: 0.9099\n",
            "val Loss: 0.2900 Acc: 0.8916\n",
            "\n",
            "\n",
            "Epoch 14/100\n",
            "-------------\n",
            "train Loss: 0.2353 Acc: 0.9112\n",
            "val Loss: 0.2717 Acc: 0.8984\n",
            "\n",
            "\n",
            "Epoch 15/100\n",
            "-------------\n",
            "train Loss: 0.2270 Acc: 0.9135\n",
            "val Loss: 0.2688 Acc: 0.8961\n",
            "\n",
            "\n",
            "Epoch 16/100\n",
            "-------------\n",
            "train Loss: 0.2224 Acc: 0.9151\n",
            "val Loss: 0.2833 Acc: 0.8936\n",
            "\n",
            "\n",
            "Epoch 17/100\n",
            "-------------\n",
            "train Loss: 0.2152 Acc: 0.9179\n",
            "val Loss: 0.2723 Acc: 0.9020\n",
            "\n",
            "\n",
            "Epoch 18/100\n",
            "-------------\n",
            "train Loss: 0.2084 Acc: 0.9203\n",
            "val Loss: 0.2555 Acc: 0.9046\n",
            "\n",
            "\n",
            "Epoch 19/100\n",
            "-------------\n",
            "train Loss: 0.2041 Acc: 0.9224\n",
            "val Loss: 0.2623 Acc: 0.9041\n",
            "\n",
            "\n",
            "Epoch 20/100\n",
            "-------------\n",
            "train Loss: 0.1980 Acc: 0.9242\n",
            "val Loss: 0.2503 Acc: 0.9083\n",
            "\n",
            "\n",
            "Epoch 21/100\n",
            "-------------\n",
            "train Loss: 0.1936 Acc: 0.9253\n",
            "val Loss: 0.2628 Acc: 0.9034\n",
            "\n",
            "\n",
            "Epoch 22/100\n",
            "-------------\n",
            "train Loss: 0.1877 Acc: 0.9285\n",
            "val Loss: 0.2581 Acc: 0.9041\n",
            "\n",
            "\n",
            "Epoch 23/100\n",
            "-------------\n",
            "train Loss: 0.1868 Acc: 0.9301\n",
            "val Loss: 0.2422 Acc: 0.9125\n",
            "\n",
            "\n",
            "Epoch 24/100\n",
            "-------------\n",
            "train Loss: 0.1825 Acc: 0.9317\n",
            "val Loss: 0.2577 Acc: 0.9059\n",
            "\n",
            "\n",
            "Epoch 25/100\n",
            "-------------\n",
            "train Loss: 0.1749 Acc: 0.9321\n",
            "val Loss: 0.2421 Acc: 0.9101\n",
            "\n",
            "\n",
            "Epoch 26/100\n",
            "-------------\n",
            "train Loss: 0.1726 Acc: 0.9335\n",
            "val Loss: 0.2523 Acc: 0.9068\n",
            "\n",
            "\n",
            "Epoch 27/100\n",
            "-------------\n",
            "train Loss: 0.1692 Acc: 0.9349\n",
            "val Loss: 0.2521 Acc: 0.9127\n",
            "\n",
            "\n",
            "Epoch 28/100\n",
            "-------------\n",
            "train Loss: 0.1642 Acc: 0.9361\n",
            "val Loss: 0.2510 Acc: 0.9128\n",
            "\n",
            "\n",
            "Epoch 29/100\n",
            "-------------\n",
            "train Loss: 0.1589 Acc: 0.9383\n",
            "val Loss: 0.2437 Acc: 0.9114\n",
            "\n",
            "\n",
            "Epoch 30/100\n",
            "-------------\n",
            "train Loss: 0.1561 Acc: 0.9392\n",
            "val Loss: 0.2466 Acc: 0.9117\n",
            "\n",
            "\n",
            "Epoch 31/100\n",
            "-------------\n",
            "train Loss: 0.1499 Acc: 0.9431\n",
            "val Loss: 0.2428 Acc: 0.9125\n",
            "\n",
            "\n",
            "Epoch 32/100\n",
            "-------------\n",
            "train Loss: 0.1505 Acc: 0.9403\n",
            "val Loss: 0.2503 Acc: 0.9138\n",
            "\n",
            "\n",
            "Epoch 33/100\n",
            "-------------\n",
            "train Loss: 0.1431 Acc: 0.9441\n",
            "val Loss: 0.2614 Acc: 0.9102\n",
            "\n",
            "\n",
            "Epoch 34/100\n",
            "-------------\n",
            "train Loss: 0.1444 Acc: 0.9446\n",
            "val Loss: 0.2645 Acc: 0.9106\n",
            "\n",
            "\n",
            "Epoch 35/100\n",
            "-------------\n",
            "train Loss: 0.1392 Acc: 0.9454\n",
            "val Loss: 0.2552 Acc: 0.9141\n",
            "\n",
            "\n",
            "Epoch 36/100\n",
            "-------------\n",
            "train Loss: 0.1360 Acc: 0.9480\n",
            "val Loss: 0.2385 Acc: 0.9169\n",
            "\n",
            "\n",
            "Epoch 37/100\n",
            "-------------\n",
            "train Loss: 0.1340 Acc: 0.9489\n",
            "val Loss: 0.2532 Acc: 0.9114\n",
            "\n",
            "\n",
            "Epoch 38/100\n",
            "-------------\n",
            "train Loss: 0.1319 Acc: 0.9477\n",
            "val Loss: 0.2479 Acc: 0.9123\n",
            "\n",
            "\n",
            "Epoch 39/100\n",
            "-------------\n",
            "train Loss: 0.1289 Acc: 0.9492\n",
            "val Loss: 0.2495 Acc: 0.9153\n",
            "\n",
            "\n",
            "Epoch 40/100\n",
            "-------------\n",
            "train Loss: 0.1220 Acc: 0.9533\n",
            "val Loss: 0.2501 Acc: 0.9148\n",
            "\n",
            "\n",
            "Epoch 41/100\n",
            "-------------\n",
            "train Loss: 0.1216 Acc: 0.9528\n",
            "val Loss: 0.2491 Acc: 0.9153\n",
            "\n",
            "\n",
            "Epoch 42/100\n",
            "-------------\n",
            "train Loss: 0.1193 Acc: 0.9539\n",
            "val Loss: 0.2486 Acc: 0.9166\n",
            "\n",
            "\n",
            "Epoch 43/100\n",
            "-------------\n",
            "train Loss: 0.1146 Acc: 0.9558\n",
            "val Loss: 0.2636 Acc: 0.9174\n",
            "\n",
            "\n",
            "Epoch 44/100\n",
            "-------------\n",
            "train Loss: 0.1152 Acc: 0.9554\n",
            "val Loss: 0.2524 Acc: 0.9180\n",
            "\n",
            "\n",
            "Epoch 45/100\n",
            "-------------\n",
            "train Loss: 0.1125 Acc: 0.9569\n",
            "val Loss: 0.2697 Acc: 0.9154\n",
            "\n",
            "\n",
            "Epoch 46/100\n",
            "-------------\n",
            "train Loss: 0.1095 Acc: 0.9573\n",
            "val Loss: 0.2558 Acc: 0.9179\n",
            "\n",
            "\n",
            "Epoch 47/100\n",
            "-------------\n",
            "train Loss: 0.1095 Acc: 0.9583\n",
            "val Loss: 0.2522 Acc: 0.9162\n",
            "\n",
            "\n",
            "Epoch 48/100\n",
            "-------------\n",
            "train Loss: 0.1038 Acc: 0.9602\n",
            "val Loss: 0.2568 Acc: 0.9192\n",
            "\n",
            "\n",
            "Epoch 49/100\n",
            "-------------\n",
            "train Loss: 0.1029 Acc: 0.9610\n",
            "val Loss: 0.2618 Acc: 0.9170\n",
            "\n",
            "\n",
            "Epoch 50/100\n",
            "-------------\n",
            "train Loss: 0.0991 Acc: 0.9628\n",
            "val Loss: 0.2817 Acc: 0.9167\n",
            "\n",
            "\n",
            "Epoch 51/100\n",
            "-------------\n",
            "train Loss: 0.0975 Acc: 0.9633\n",
            "val Loss: 0.2695 Acc: 0.9153\n",
            "\n",
            "\n",
            "Epoch 52/100\n",
            "-------------\n",
            "train Loss: 0.0938 Acc: 0.9641\n",
            "val Loss: 0.2699 Acc: 0.9151\n",
            "\n",
            "\n",
            "Epoch 53/100\n",
            "-------------\n",
            "train Loss: 0.0919 Acc: 0.9661\n",
            "val Loss: 0.3146 Acc: 0.9115\n",
            "\n",
            "\n",
            "Epoch 54/100\n",
            "-------------\n",
            "train Loss: 0.0898 Acc: 0.9672\n",
            "val Loss: 0.2903 Acc: 0.9162\n",
            "\n",
            "\n",
            "Epoch 55/100\n",
            "-------------\n",
            "train Loss: 0.0921 Acc: 0.9654\n",
            "val Loss: 0.2926 Acc: 0.9169\n",
            "\n",
            "\n",
            "Epoch 56/100\n",
            "-------------\n",
            "train Loss: 0.0879 Acc: 0.9667\n",
            "val Loss: 0.2823 Acc: 0.9154\n",
            "\n",
            "\n",
            "Epoch 57/100\n",
            "-------------\n",
            "train Loss: 0.0848 Acc: 0.9689\n",
            "val Loss: 0.3153 Acc: 0.9130\n",
            "\n",
            "\n",
            "Epoch 58/100\n",
            "-------------\n",
            "train Loss: 0.0848 Acc: 0.9687\n",
            "val Loss: 0.2919 Acc: 0.9192\n",
            "\n",
            "\n",
            "Epoch 59/100\n",
            "-------------\n",
            "train Loss: 0.0810 Acc: 0.9700\n",
            "val Loss: 0.3002 Acc: 0.9169\n",
            "\n",
            "\n",
            "Epoch 60/100\n",
            "-------------\n",
            "train Loss: 0.0787 Acc: 0.9699\n",
            "val Loss: 0.3210 Acc: 0.9132\n",
            "\n",
            "\n",
            "Epoch 61/100\n",
            "-------------\n",
            "train Loss: 0.0768 Acc: 0.9717\n",
            "val Loss: 0.3042 Acc: 0.9174\n",
            "\n",
            "\n",
            "Epoch 62/100\n",
            "-------------\n",
            "train Loss: 0.0774 Acc: 0.9714\n",
            "val Loss: 0.2953 Acc: 0.9187\n",
            "\n",
            "\n",
            "Epoch 63/100\n",
            "-------------\n",
            "train Loss: 0.0743 Acc: 0.9726\n",
            "val Loss: 0.2986 Acc: 0.9182\n",
            "\n",
            "\n",
            "Epoch 64/100\n",
            "-------------\n",
            "train Loss: 0.0716 Acc: 0.9731\n",
            "val Loss: 0.3268 Acc: 0.9132\n",
            "\n",
            "\n",
            "Epoch 65/100\n",
            "-------------\n",
            "train Loss: 0.0731 Acc: 0.9733\n",
            "val Loss: 0.3028 Acc: 0.9195\n",
            "\n",
            "\n",
            "Epoch 66/100\n",
            "-------------\n",
            "train Loss: 0.0685 Acc: 0.9750\n",
            "val Loss: 0.3295 Acc: 0.9148\n",
            "\n",
            "\n",
            "Epoch 67/100\n",
            "-------------\n",
            "train Loss: 0.0683 Acc: 0.9747\n",
            "val Loss: 0.3306 Acc: 0.9149\n",
            "\n",
            "\n",
            "Epoch 68/100\n",
            "-------------\n",
            "train Loss: 0.0665 Acc: 0.9748\n",
            "val Loss: 0.3311 Acc: 0.9156\n",
            "\n",
            "\n",
            "Epoch 69/100\n",
            "-------------\n",
            "train Loss: 0.0636 Acc: 0.9763\n",
            "val Loss: 0.3211 Acc: 0.9196\n",
            "\n",
            "\n",
            "Epoch 70/100\n",
            "-------------\n",
            "train Loss: 0.0645 Acc: 0.9774\n",
            "val Loss: 0.3184 Acc: 0.9201\n",
            "\n",
            "\n",
            "Epoch 71/100\n",
            "-------------\n",
            "train Loss: 0.0610 Acc: 0.9780\n",
            "val Loss: 0.3514 Acc: 0.9172\n",
            "\n",
            "\n",
            "Epoch 72/100\n",
            "-------------\n",
            "train Loss: 0.0626 Acc: 0.9774\n",
            "val Loss: 0.3318 Acc: 0.9180\n",
            "\n",
            "\n",
            "Epoch 73/100\n",
            "-------------\n",
            "train Loss: 0.0563 Acc: 0.9800\n",
            "val Loss: 0.3439 Acc: 0.9198\n",
            "\n",
            "\n",
            "Epoch 74/100\n",
            "-------------\n",
            "train Loss: 0.0597 Acc: 0.9784\n",
            "val Loss: 0.3430 Acc: 0.9182\n",
            "\n",
            "\n",
            "Epoch 75/100\n",
            "-------------\n",
            "train Loss: 0.0552 Acc: 0.9804\n",
            "val Loss: 0.3392 Acc: 0.9193\n",
            "\n",
            "\n",
            "Epoch 76/100\n",
            "-------------\n",
            "train Loss: 0.0560 Acc: 0.9787\n",
            "val Loss: 0.3656 Acc: 0.9149\n",
            "\n",
            "\n",
            "Epoch 77/100\n",
            "-------------\n",
            "train Loss: 0.0547 Acc: 0.9802\n",
            "val Loss: 0.3464 Acc: 0.9192\n",
            "\n",
            "\n",
            "Epoch 78/100\n",
            "-------------\n",
            "train Loss: 0.0537 Acc: 0.9810\n",
            "val Loss: 0.3552 Acc: 0.9217\n",
            "\n",
            "\n",
            "Epoch 79/100\n",
            "-------------\n",
            "train Loss: 0.0526 Acc: 0.9802\n",
            "val Loss: 0.3589 Acc: 0.9177\n",
            "\n",
            "\n",
            "Epoch 80/100\n",
            "-------------\n",
            "train Loss: 0.0525 Acc: 0.9804\n",
            "val Loss: 0.3517 Acc: 0.9216\n",
            "\n",
            "\n",
            "Epoch 81/100\n",
            "-------------\n",
            "train Loss: 0.0544 Acc: 0.9801\n",
            "val Loss: 0.3600 Acc: 0.9187\n",
            "\n",
            "\n",
            "Epoch 82/100\n",
            "-------------\n",
            "train Loss: 0.0483 Acc: 0.9823\n",
            "val Loss: 0.3710 Acc: 0.9229\n",
            "\n",
            "\n",
            "Epoch 83/100\n",
            "-------------\n",
            "train Loss: 0.0465 Acc: 0.9831\n",
            "val Loss: 0.4116 Acc: 0.9159\n",
            "\n",
            "\n",
            "Epoch 84/100\n",
            "-------------\n",
            "train Loss: 0.0507 Acc: 0.9810\n",
            "val Loss: 0.3771 Acc: 0.9192\n",
            "\n",
            "\n",
            "Epoch 85/100\n",
            "-------------\n",
            "train Loss: 0.0467 Acc: 0.9824\n",
            "val Loss: 0.3820 Acc: 0.9204\n",
            "\n",
            "\n",
            "Epoch 86/100\n",
            "-------------\n",
            "train Loss: 0.0466 Acc: 0.9832\n",
            "val Loss: 0.3809 Acc: 0.9203\n",
            "\n",
            "\n",
            "Epoch 87/100\n",
            "-------------\n",
            "train Loss: 0.0465 Acc: 0.9840\n",
            "val Loss: 0.3987 Acc: 0.9193\n",
            "\n",
            "\n",
            "Epoch 88/100\n",
            "-------------\n",
            "train Loss: 0.0427 Acc: 0.9847\n",
            "val Loss: 0.4060 Acc: 0.9169\n",
            "\n",
            "\n",
            "Epoch 89/100\n",
            "-------------\n",
            "train Loss: 0.0400 Acc: 0.9857\n",
            "val Loss: 0.3926 Acc: 0.9237\n",
            "\n",
            "\n",
            "Epoch 90/100\n",
            "-------------\n",
            "train Loss: 0.0385 Acc: 0.9870\n",
            "val Loss: 0.4328 Acc: 0.9170\n",
            "\n",
            "\n",
            "Epoch 91/100\n",
            "-------------\n",
            "train Loss: 0.0416 Acc: 0.9848\n",
            "val Loss: 0.3988 Acc: 0.9224\n",
            "\n",
            "\n",
            "Epoch 92/100\n",
            "-------------\n",
            "train Loss: 0.0422 Acc: 0.9841\n",
            "val Loss: 0.4245 Acc: 0.9183\n",
            "\n",
            "\n",
            "Epoch 93/100\n",
            "-------------\n",
            "train Loss: 0.0414 Acc: 0.9845\n",
            "val Loss: 0.4017 Acc: 0.9222\n",
            "\n",
            "\n",
            "Epoch 94/100\n",
            "-------------\n",
            "train Loss: 0.0374 Acc: 0.9871\n",
            "val Loss: 0.4120 Acc: 0.9248\n",
            "\n",
            "\n",
            "Epoch 95/100\n",
            "-------------\n",
            "train Loss: 0.0433 Acc: 0.9851\n",
            "val Loss: 0.4220 Acc: 0.9195\n",
            "\n",
            "\n",
            "Epoch 96/100\n",
            "-------------\n",
            "train Loss: 0.0345 Acc: 0.9877\n",
            "val Loss: 0.4112 Acc: 0.9221\n",
            "\n",
            "\n",
            "Epoch 97/100\n",
            "-------------\n",
            "train Loss: 0.0345 Acc: 0.9879\n",
            "val Loss: 0.4272 Acc: 0.9229\n",
            "\n",
            "\n",
            "Epoch 98/100\n",
            "-------------\n",
            "train Loss: 0.0406 Acc: 0.9849\n",
            "val Loss: 0.4828 Acc: 0.9156\n",
            "\n",
            "\n",
            "Epoch 99/100\n",
            "-------------\n",
            "train Loss: 0.0334 Acc: 0.9881\n",
            "val Loss: 0.4649 Acc: 0.9188\n",
            "\n",
            "\n",
            "Epoch 100/100\n",
            "-------------\n",
            "train Loss: 0.0351 Acc: 0.9879\n",
            "val Loss: 0.4516 Acc: 0.9211\n"
          ]
        },
        {
          "output_type": "display_data",
          "data": {
            "text/plain": [
              "<Figure size 432x288 with 1 Axes>"
            ],
            "image/png": "[encoded data removed]"
          },
          "metadata": {
            "needs_background": "light"
          }
        },
        {
          "output_type": "stream",
          "name": "stdout",
          "text": [
            "[1. 1. 1. ... 0. 3. 2.]\n",
            "学習時間：566.6505670547485\n"
          ]
        }
      ],
      "source": [
        "import time\n",
        "\n",
        "# 処理前の時刻\n",
        "t1 = time.time()\n",
        "\n",
        "num_epochs = 100\n",
        "train_model(net, dataloaders_dict, criterion, optimizer, device, num_epochs=num_epochs)\n",
        "\n",
        "# 処理後の時刻\n",
        "t2 = time.time()\n",
        "\n",
        "# 経過時間を表示\n",
        "elapsed_time = t2-t1\n",
        "print(f\"学習時間：{elapsed_time}\")"
      ]
    },
    {
      "cell_type": "code",
      "execution_count": null,
      "metadata": {
        "id": "LxNGO2u3qfgi",
        "colab": {
          "base_uri": "https://localhost:8080/",
          "height": 1000
        },
        "outputId": "d169bbc0-1feb-4055-e346-4c1d10456cee"
      },
      "outputs": [
        {
          "output_type": "stream",
          "name": "stdout",
          "text": [
            "0.9250810110174984\n",
            "推論時間：0.3374302387237549\n",
            "              precision    recall  f1-score   support\n",
            "\n",
            "           0     0.9522    0.9568    0.9545      2707\n",
            "           1     0.8454    0.7962    0.8201       893\n",
            "           2     0.8915    0.9236    0.9073       694\n",
            "           3     0.9838    0.9841    0.9840      2964\n",
            "           4     0.5915    0.6083    0.5998       457\n",
            "\n",
            "    accuracy                         0.9251      7715\n",
            "   macro avg     0.8529    0.8538    0.8531      7715\n",
            "weighted avg     0.9252    0.9251    0.9250      7715\n",
            "\n"
          ]
        },
        {
          "output_type": "display_data",
          "data": {
            "text/plain": [
              "<Figure size 432x288 with 2 Axes>"
            ],
            "image/png": "[encoded data removed]"
          },
          "metadata": {
            "needs_background": "light"
          }
        },
        {
          "output_type": "display_data",
          "data": {
            "text/plain": [
              "<Figure size 720x720 with 2 Axes>"
            ],
            "image/png": "[encoded data removed]"
          },
          "metadata": {
            "needs_background": "light"
          }
        }
      ],
      "source": [
        "from sklearn.metrics import confusion_matrix, ConfusionMatrixDisplay\n",
        "inputs = X_test\n",
        "true = y_test\n",
        "\n",
        "labels = [\"streaming\", \"edit\", \"ping\", \"video\", \"mail\"]\n",
        "#labels = [\"streaming\", \"audio\", \"voip\", \"video\", \"file\"]\n",
        "net.eval() #推論モード\n",
        "\n",
        "\n",
        "with torch.set_grad_enabled(False):   # 推論モードでは勾配を算出しない\n",
        "    # 処理前の時刻\n",
        "    t1 = time.time()\n",
        "    # 出力\n",
        "    outputs = net(inputs)     # 順伝播\n",
        "    _, preds = torch.max(outputs, 1)  # ラベルを予測\n",
        "\n",
        "    correct = 0\n",
        "    for i in range(len(preds)):\n",
        "      if preds[i] == true[i]:\n",
        "        correct += 1\n",
        "\n",
        "    print(correct / len(preds))\n",
        "    # 処理後の時刻\n",
        "    t2 = time.time()\n",
        "    # 経過時間を表示\n",
        "    elapsed_time = t2-t1\n",
        "    print(f\"推論時間：{elapsed_time}\")\n",
        "\n",
        "    print(classification_report(preds, true,  digits=4))\n",
        "\n",
        "    disp = ConfusionMatrixDisplay.from_predictions(preds, true, display_labels = labels,include_values = False ,normalize = \"true\", cmap = 'Greens')\n",
        "    fig, ax = plt.subplots(figsize = (10,10))\n",
        "    plt.title('confusion matrix')\n",
        "    disp.plot(ax=ax, cmap=\"Greens\")\n",
        "\n",
        ""
      ]
    },
    {
      "cell_type": "markdown",
      "source": [
        "##ランダムフォレスト"
      ],
      "metadata": {
        "id": "ZL5HIHJe2JU1"
      }
    },
    {
      "cell_type": "code",
      "execution_count": null,
      "metadata": {
        "colab": {
          "base_uri": "https://localhost:8080/",
          "height": 1000
        },
        "id": "UK0TMdPRp6K8",
        "outputId": "44f91d7a-debc-4603-c08e-df87f5502c84"
      },
      "outputs": [
        {
          "output_type": "stream",
          "name": "stdout",
          "text": [
            "torch.Size([12033, 10, 4])\n"
          ]
        },
        {
          "output_type": "stream",
          "name": "stderr",
          "text": [
            "[Parallel(n_jobs=1)]: Using backend SequentialBackend with 1 concurrent workers.\n",
            "[Parallel(n_jobs=1)]: Done 100 out of 100 | elapsed:    3.0s finished\n",
            "[Parallel(n_jobs=1)]: Using backend SequentialBackend with 1 concurrent workers.\n",
            "[Parallel(n_jobs=1)]: Done 100 out of 100 | elapsed:    0.1s finished\n",
            "[Parallel(n_jobs=1)]: Using backend SequentialBackend with 1 concurrent workers.\n"
          ]
        },
        {
          "output_type": "stream",
          "name": "stdout",
          "text": [
            "学習時間：2.9943056106567383\n",
            "学習時間：0.07320761680603027\n",
            "              precision    recall  f1-score   support\n",
            "\n",
            "           0     1.0000    1.0000    1.0000      1002\n",
            "           1     0.9898    0.9990    0.9944       973\n",
            "           2     0.9961    1.0000    0.9981       256\n",
            "           3     0.9970    0.9990    0.9980      1013\n",
            "           4     0.9960    0.9729    0.9843       517\n",
            "\n",
            "    accuracy                         0.9957      3761\n",
            "   macro avg     0.9958    0.9942    0.9950      3761\n",
            "weighted avg     0.9958    0.9957    0.9957      3761\n",
            "\n"
          ]
        },
        {
          "output_type": "stream",
          "name": "stderr",
          "text": [
            "[Parallel(n_jobs=1)]: Done 100 out of 100 | elapsed:    0.1s finished\n"
          ]
        },
        {
          "output_type": "stream",
          "name": "stdout",
          "text": [
            "rf score is 0.9957458122839671\n"
          ]
        },
        {
          "output_type": "display_data",
          "data": {
            "text/plain": [
              "<Figure size 432x288 with 2 Axes>"
            ],
            "image/png": "[encoded data removed]"
          },
          "metadata": {
            "needs_background": "light"
          }
        },
        {
          "output_type": "display_data",
          "data": {
            "text/plain": [
              "<Figure size 720x720 with 2 Axes>"
            ],
            "image/png": "[encoded data removed]"
          },
          "metadata": {
            "needs_background": "light"
          }
        }
      ],
      "source": [
        "#ランダムフォレストモデル生成\n",
        "from mlxtend.plotting import plot_learning_curves\n",
        "import matplotlib.pyplot as plt\n",
        "from mlxtend.preprocessing import shuffle_arrays_unison\n",
        "from sklearn.ensemble import RandomForestClassifier as RFC\n",
        "\n",
        "from sklearn.model_selection import train_test_split, GridSearchCV\n",
        "from sklearn.metrics import confusion_matrix, ConfusionMatrixDisplay\n",
        "\n",
        "X_train = X_train.squeeze()\n",
        "X_test = X_test.squeeze()\n",
        "\n",
        "print(X_train.shape)\n",
        "X_train = X_train.reshape(X_train.shape[0], -1)\n",
        "X_test = X_test.reshape(X_test.shape[0], -1)\n",
        "\n",
        "# 処理前の時刻\n",
        "t1 = time.time()\n",
        "\n",
        "#LogisticRegression\n",
        "model_rf = RFC(verbose=True)\n",
        "model_rf.fit(X_train, y_train)\n",
        "\n",
        "# 処理後の時刻\n",
        "t2 = time.time()\n",
        "# 経過時間を表示\n",
        "elapsed_time = t2-t1\n",
        "print(f\"学習時間：{elapsed_time}\")\n",
        "\n",
        "X_train = X_train.reshape(X_train.shape[0], -1)\n",
        "X_test = X_test.reshape(X_test.shape[0], -1)\n",
        "\n",
        "# 処理前の時刻\n",
        "t1 = time.time()\n",
        "#分類\n",
        "y_pred = model_rf.predict(X_test)\n",
        "# 処理後の時刻\n",
        "t2 = time.time()\n",
        "# 経過時間を表示\n",
        "elapsed_time = t2-t1\n",
        "print(f\"学習時間：{elapsed_time}\")\n",
        "\n",
        "print(classification_report(y_pred, y_test, digits=4))\n",
        "\n",
        "labels = [\"youtube\", \"edit\", \"ping\", \"video\", \"mail\"]\n",
        "disp = ConfusionMatrixDisplay.from_predictions(y_pred,y_test, display_labels = labels,include_values = False ,normalize = \"true\", cmap = 'Greens')\n",
        "fig, ax = plt.subplots(figsize = (10,10))\n",
        "plt.title('confusion matrix')\n",
        "disp.plot(ax=ax, cmap=\"Greens\")\n",
        "\n",
        "score_rf = model_rf.score(X_test, y_test)\n",
        "print('rf score is', score_rf)\n"
      ]
    },
    {
      "cell_type": "code",
      "execution_count": null,
      "metadata": {
        "id": "UecY90HwvrmV"
      },
      "outputs": [],
      "source": [
        "for i in range(10):\n",
        "  print(\"データ=>{}, ラベル=>{}\".format(X_train[i],y_train[i]))"
      ]
    },
    {
      "cell_type": "code",
      "execution_count": null,
      "metadata": {
        "colab": {
          "base_uri": "https://localhost:8080/",
          "height": 283
        },
        "id": "D2n8CYo9zVyQ",
        "outputId": "368fdf1e-cd79-4b19-c383-94bbde6727a0"
      },
      "outputs": [
        {
          "output_type": "display_data",
          "data": {
            "text/plain": [
              "<Figure size 432x288 with 2 Axes>"
            ],
            "image/png": "[encoded data removed]"
          },
          "metadata": {
            "needs_background": "light"
          }
        }
      ],
      "source": [
        "acc = [0.991, 0.992, 0.938, 0.924, 0.938, 0.9267, 0.9412, 0.9132, 0.912, 0.918]\n",
        "time = [162, 114.5, 98.2, 87.4, 82, 81.3, 77.2, 77.2, 72.9, 72.1]\n",
        "\n",
        "fig = plt.figure()\n",
        "axis1 = fig.subplots()\n",
        "axis2 = axis1.twinx()\n",
        "x =[10,20,30,40,50,60,70,80,90,100]\n",
        "\n",
        "line1 = axis1.plot(x, acc, color='C0',label='accuracy')\n",
        "line2 = axis2.plot(x, time, color='C1', label='time')\n",
        "axis1.set_ylim([0.6,1.00])\n",
        "axis2.set_ylim([0,400])\n",
        "\n",
        "h1, l1 = axis1.get_legend_handles_labels()\n",
        "h2, l2 = axis2.get_legend_handles_labels()\n",
        "axis1.legend(h1, l1, loc='upper right')\n",
        "axis1.legend(h1+h2, l1+l2, loc='upper right')\n",
        "\n",
        "axis1.set_xlabel(\"sequence\")\n",
        "axis1.set_ylabel(\"accuracy[%]\")\n",
        "axis1.grid(False)\n",
        "axis2.set_ylabel(\"execution time[s]\")\n",
        "plt.show()\n"
      ]
    },
    {
      "cell_type": "code",
      "source": [
        "#ランダムフォレスト\n",
        "from sklearn.model_selection import cross_validate, StratifiedKFold\n",
        "from sklearn.metrics import confusion_matrix, ConfusionMatrixDisplay, f1_score\n",
        "from mlxtend.plotting import plot_learning_curves\n",
        "import matplotlib.pyplot as plt\n",
        "from mlxtend.preprocessing import shuffle_arrays_unison\n",
        "from sklearn.ensemble import RandomForestClassifier\n",
        "import time\n",
        "\n",
        "splits = 5\n",
        "skf = StratifiedKFold(n_splits=splits, shuffle=True, random_state=42)\n",
        "score_funcs = [\"accuracy\",\"precision_macro\",\"recall_macro\",\"f1_macro\"]\n",
        "\n",
        "X_train = X_train.squeeze()\n",
        "X_test = X_test.squeeze()\n",
        "\n",
        "X_train = X_train.reshape(X_train.shape[0], -1)\n",
        "X_test = X_test.reshape(X_test.shape[0], -1)\n",
        "\n",
        "start = time.time() #開始時間記録\n",
        "\n",
        "#学習\n",
        "model_rf = RandomForestClassifier()\n",
        "model_rf.fit(X_train, y_train)\n",
        "\n",
        "#f値出力\n",
        "score_rf = cross_validate(model_rf, X_test, y_test, cv=skf, scoring=score_funcs, return_estimator=True)\n",
        "print('f is ',score_rf[\"test_f1_macro\"].mean())\n",
        "\n",
        "#精度出力\n",
        "score_rf = model_rf.score(X_test, y_test)\n",
        "print('rf score is', score_rf)\n",
        "\n",
        "end = time.time()  #終了時間記録\n",
        "print(end-start)   #処理時間出力\n",
        "\n",
        "#内訳(緑のやつ)\n",
        "y_pred = model_rf.predict(X_test)\n",
        "print(y_pred)\n",
        "labels = [\"youtube\", \"edit\", \"ping\", \"video\", \"mail\"]\n",
        "disp = ConfusionMatrixDisplay.from_predictions(y_test,y_pred, display_labels = labels,include_values = False ,normalize = \"true\", cmap = 'Greens')\n",
        "fig, ax = plt.subplots(figsize = (10,10))\n",
        "plt.title('confusion matrix')\n",
        "disp.plot(ax=ax, cmap=\"Greens\")"
      ],
      "metadata": {
        "colab": {
          "base_uri": "https://localhost:8080/",
          "height": 941
        },
        "id": "plWFME6z0yqk",
        "outputId": "b1616997-d124-4fc6-e84f-c23bf77c98e7"
      },
      "execution_count": null,
      "outputs": [
        {
          "output_type": "stream",
          "name": "stdout",
          "text": [
            "f is  0.992449716411014\n",
            "rf score is 0.9978290366350068\n",
            "6.760068893432617\n",
            "[1 4 4 ... 0 1 2]\n"
          ]
        },
        {
          "output_type": "execute_result",
          "data": {
            "text/plain": [
              "<sklearn.metrics._plot.confusion_matrix.ConfusionMatrixDisplay at 0x7f955c15aa90>"
            ]
          },
          "metadata": {},
          "execution_count": 20
        },
        {
          "output_type": "display_data",
          "data": {
            "text/plain": [
              "<Figure size 432x288 with 2 Axes>"
            ],
            "image/png": "[encoded data removed]"
          },
          "metadata": {
            "needs_background": "light"
          }
        },
        {
          "output_type": "display_data",
          "data": {
            "text/plain": [
              "<Figure size 720x720 with 2 Axes>"
            ],
            "image/png": "[encoded data removed]"
          },
          "metadata": {
            "needs_background": "light"
          }
        }
      ]
    },
    {
      "cell_type": "markdown",
      "source": [
        "#ベルヌーイナイーブベイズ"
      ],
      "metadata": {
        "id": "Z7k-oGKW36HP"
      }
    },
    {
      "cell_type": "code",
      "source": [
        "#ベルヌーイナイーブベイズ\n",
        "import numpy as np\n",
        "import pandas as pd\n",
        "from sklearn import datasets\n",
        "from sklearn.model_selection import train_test_split,cross_validate, StratifiedKFold\n",
        "import matplotlib.pyplot as plt\n",
        "from mlxtend.plotting import plot_learning_curves\n",
        "from sklearn.naive_bayes import BernoulliNB\n",
        "import time\n",
        "from sklearn.metrics import confusion_matrix, ConfusionMatrixDisplay\n",
        "\n",
        "X_train = X_train.squeeze()\n",
        "X_test = X_test.squeeze()\n",
        "\n",
        "X_train = X_train.reshape(X_train.shape[0], -1)\n",
        "X_test = X_test.reshape(X_test.shape[0], -1)\n",
        "\n",
        "start = time.time()#開始時間記録\n",
        "#学習\n",
        "BNB_model = BernoulliNB(alpha=1.0,binarize=0.0,fit_prior=True,class_prior=None)\n",
        "BNB_model.fit(X_train,y_train)\n",
        "\n",
        "end = time.time()#終了時間記録\n",
        "print(end-start)\n",
        "\n",
        "#精度出力\n",
        "score_BNB = BNB_model.score(X_test,y_test)\n",
        "print('score is ',score_BNB)\n",
        "\n",
        "\n",
        "\n",
        "\"\"\"\n",
        "#学習曲線\n",
        "plot_learning_curves(X_train, y_train, X_test, y_test, BNB_model)\n",
        "plt.show()\n",
        "\"\"\"\n",
        "\n",
        "#内訳(緑のやつ)\n",
        "y_pred_BNB = BNB_model.predict(X_test)\n",
        "print(y_pred_BNB)\n",
        "labels = [\"youtube\", \"edit\", \"ping\", \"video\", \"mail\"]\n",
        "disp = ConfusionMatrixDisplay.from_predictions(y_test,y_pred_BNB, display_labels = labels,include_values = False ,normalize = \"true\", cmap = 'Greens')\n",
        "fig, ax = plt.subplots(figsize = (10,10))\n",
        "plt.title('confusion matrix')\n",
        "disp.plot(ax=ax, cmap=\"Greens\")"
      ],
      "metadata": {
        "colab": {
          "base_uri": "https://localhost:8080/",
          "height": 915
        },
        "id": "JJ9kRaF_34zL",
        "outputId": "55c859d5-d49d-4097-98cc-2e1ad9f455bf"
      },
      "execution_count": null,
      "outputs": [
        {
          "output_type": "stream",
          "name": "stdout",
          "text": [
            "0.012511253356933594\n",
            "score is  0.6531886024423338\n",
            "[1 0 0 ... 0 1 2]\n"
          ]
        },
        {
          "output_type": "execute_result",
          "data": {
            "text/plain": [
              "<sklearn.metrics._plot.confusion_matrix.ConfusionMatrixDisplay at 0x7f955ca74650>"
            ]
          },
          "metadata": {},
          "execution_count": 18
        },
        {
          "output_type": "display_data",
          "data": {
            "text/plain": [
              "<Figure size 432x288 with 2 Axes>"
            ],
            "image/png": "[encoded data removed]"
          },
          "metadata": {
            "needs_background": "light"
          }
        },
        {
          "output_type": "display_data",
          "data": {
            "text/plain": [
              "<Figure size 720x720 with 2 Axes>"
            ],
            "image/png": "[encoded data removed]"
          },
          "metadata": {
            "needs_background": "light"
          }
        }
      ]
    }
  ],
  "metadata": {
    "colab": {
      "provenance": []
    },
    "kernelspec": {
      "display_name": "Python 3",
      "name": "python3"
    },
    "language_info": {
      "name": "python"
    },
    "accelerator": "GPU",
    "gpuClass": "standard"
  },
  "nbformat": 4,
  "nbformat_minor": 0
}